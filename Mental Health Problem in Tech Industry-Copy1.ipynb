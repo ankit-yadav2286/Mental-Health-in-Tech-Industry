{
 "cells": [
  {
   "cell_type": "markdown",
   "id": "bde733e9",
   "metadata": {},
   "source": [
    "# Problem Statement :  Develop a Model that can predict whether a employee seek treatment or not\n",
    "\n",
    " # Also Identify the key Features that lead to mental Health Problems in tech space."
   ]
  },
  {
   "cell_type": "code",
   "execution_count": 2,
   "id": "8b1ea9c9",
   "metadata": {},
   "outputs": [],
   "source": [
    "# Importing Important Libraries \n",
    "\n",
    "import numpy as np\n",
    "import pandas as pd\n",
    "import seaborn as sns\n",
    "import matplotlib.pyplot as plt\n"
   ]
  },
  {
   "cell_type": "code",
   "execution_count": 3,
   "id": "39ba1f16",
   "metadata": {},
   "outputs": [],
   "source": [
    "# For ignoring warnings\n",
    "\n",
    "import warnings \n",
    "warnings.simplefilter('ignore')\n",
    "\n",
    "\n",
    "# For displaying all the columns of the Dataset\n",
    "pd.set_option('display.max_columns',None)"
   ]
  },
  {
   "cell_type": "markdown",
   "id": "45bca3ae",
   "metadata": {},
   "source": [
    "# IMPORTING DATA"
   ]
  },
  {
   "cell_type": "code",
   "execution_count": 4,
   "id": "3951098f",
   "metadata": {},
   "outputs": [],
   "source": [
    "df=pd.read_csv(\"D:\\data sets\\survey.csv\")"
   ]
  },
  {
   "cell_type": "markdown",
   "id": "58c56020",
   "metadata": {},
   "source": [
    "# How Big is the Data"
   ]
  },
  {
   "cell_type": "code",
   "execution_count": 5,
   "id": "33bf50d6",
   "metadata": {},
   "outputs": [
    {
     "data": {
      "text/plain": [
       "(1259, 27)"
      ]
     },
     "execution_count": 5,
     "metadata": {},
     "output_type": "execute_result"
    }
   ],
   "source": [
    "df.shape\n",
    "\n",
    "# There are 1259 rows and 27 columns in the Dataset"
   ]
  },
  {
   "cell_type": "markdown",
   "id": "23948ac0",
   "metadata": {},
   "source": [
    "# How does the data looklike "
   ]
  },
  {
   "cell_type": "code",
   "execution_count": 6,
   "id": "a6e00103",
   "metadata": {},
   "outputs": [
    {
     "data": {
      "text/html": [
       "<div>\n",
       "<style scoped>\n",
       "    .dataframe tbody tr th:only-of-type {\n",
       "        vertical-align: middle;\n",
       "    }\n",
       "\n",
       "    .dataframe tbody tr th {\n",
       "        vertical-align: top;\n",
       "    }\n",
       "\n",
       "    .dataframe thead th {\n",
       "        text-align: right;\n",
       "    }\n",
       "</style>\n",
       "<table border=\"1\" class=\"dataframe\">\n",
       "  <thead>\n",
       "    <tr style=\"text-align: right;\">\n",
       "      <th></th>\n",
       "      <th>Timestamp</th>\n",
       "      <th>Age</th>\n",
       "      <th>Gender</th>\n",
       "      <th>Country</th>\n",
       "      <th>state</th>\n",
       "      <th>self_employed</th>\n",
       "      <th>family_history</th>\n",
       "      <th>treatment</th>\n",
       "      <th>work_interfere</th>\n",
       "      <th>no_employees</th>\n",
       "      <th>remote_work</th>\n",
       "      <th>tech_company</th>\n",
       "      <th>benefits</th>\n",
       "      <th>care_options</th>\n",
       "      <th>wellness_program</th>\n",
       "      <th>seek_help</th>\n",
       "      <th>anonymity</th>\n",
       "      <th>leave</th>\n",
       "      <th>mental_health_consequence</th>\n",
       "      <th>phys_health_consequence</th>\n",
       "      <th>coworkers</th>\n",
       "      <th>supervisor</th>\n",
       "      <th>mental_health_interview</th>\n",
       "      <th>phys_health_interview</th>\n",
       "      <th>mental_vs_physical</th>\n",
       "      <th>obs_consequence</th>\n",
       "      <th>comments</th>\n",
       "    </tr>\n",
       "  </thead>\n",
       "  <tbody>\n",
       "    <tr>\n",
       "      <th>1042</th>\n",
       "      <td>2014-08-29 11:20:28</td>\n",
       "      <td>40</td>\n",
       "      <td>M</td>\n",
       "      <td>United States</td>\n",
       "      <td>WI</td>\n",
       "      <td>No</td>\n",
       "      <td>Yes</td>\n",
       "      <td>Yes</td>\n",
       "      <td>Sometimes</td>\n",
       "      <td>More than 1000</td>\n",
       "      <td>Yes</td>\n",
       "      <td>Yes</td>\n",
       "      <td>Yes</td>\n",
       "      <td>Yes</td>\n",
       "      <td>No</td>\n",
       "      <td>Yes</td>\n",
       "      <td>Don't know</td>\n",
       "      <td>Don't know</td>\n",
       "      <td>Yes</td>\n",
       "      <td>No</td>\n",
       "      <td>No</td>\n",
       "      <td>No</td>\n",
       "      <td>No</td>\n",
       "      <td>Maybe</td>\n",
       "      <td>Don't know</td>\n",
       "      <td>No</td>\n",
       "      <td>NaN</td>\n",
       "    </tr>\n",
       "    <tr>\n",
       "      <th>935</th>\n",
       "      <td>2014-08-28 22:20:33</td>\n",
       "      <td>38</td>\n",
       "      <td>Male</td>\n",
       "      <td>United Kingdom</td>\n",
       "      <td>NaN</td>\n",
       "      <td>Yes</td>\n",
       "      <td>Yes</td>\n",
       "      <td>Yes</td>\n",
       "      <td>Rarely</td>\n",
       "      <td>1-5</td>\n",
       "      <td>Yes</td>\n",
       "      <td>No</td>\n",
       "      <td>No</td>\n",
       "      <td>No</td>\n",
       "      <td>No</td>\n",
       "      <td>No</td>\n",
       "      <td>Yes</td>\n",
       "      <td>Very difficult</td>\n",
       "      <td>Maybe</td>\n",
       "      <td>No</td>\n",
       "      <td>No</td>\n",
       "      <td>No</td>\n",
       "      <td>No</td>\n",
       "      <td>No</td>\n",
       "      <td>No</td>\n",
       "      <td>No</td>\n",
       "      <td>NaN</td>\n",
       "    </tr>\n",
       "    <tr>\n",
       "      <th>692</th>\n",
       "      <td>2014-08-28 09:54:51</td>\n",
       "      <td>30</td>\n",
       "      <td>m</td>\n",
       "      <td>Germany</td>\n",
       "      <td>NaN</td>\n",
       "      <td>No</td>\n",
       "      <td>No</td>\n",
       "      <td>No</td>\n",
       "      <td>NaN</td>\n",
       "      <td>26-100</td>\n",
       "      <td>No</td>\n",
       "      <td>Yes</td>\n",
       "      <td>Don't know</td>\n",
       "      <td>No</td>\n",
       "      <td>No</td>\n",
       "      <td>Don't know</td>\n",
       "      <td>Yes</td>\n",
       "      <td>Somewhat easy</td>\n",
       "      <td>No</td>\n",
       "      <td>No</td>\n",
       "      <td>Some of them</td>\n",
       "      <td>No</td>\n",
       "      <td>Maybe</td>\n",
       "      <td>Maybe</td>\n",
       "      <td>Don't know</td>\n",
       "      <td>No</td>\n",
       "      <td>NaN</td>\n",
       "    </tr>\n",
       "    <tr>\n",
       "      <th>567</th>\n",
       "      <td>2014-08-27 19:41:28</td>\n",
       "      <td>32</td>\n",
       "      <td>Male</td>\n",
       "      <td>United States</td>\n",
       "      <td>CA</td>\n",
       "      <td>No</td>\n",
       "      <td>No</td>\n",
       "      <td>Yes</td>\n",
       "      <td>Sometimes</td>\n",
       "      <td>More than 1000</td>\n",
       "      <td>No</td>\n",
       "      <td>Yes</td>\n",
       "      <td>Yes</td>\n",
       "      <td>No</td>\n",
       "      <td>No</td>\n",
       "      <td>Yes</td>\n",
       "      <td>Don't know</td>\n",
       "      <td>Somewhat easy</td>\n",
       "      <td>No</td>\n",
       "      <td>No</td>\n",
       "      <td>Yes</td>\n",
       "      <td>Some of them</td>\n",
       "      <td>Maybe</td>\n",
       "      <td>Yes</td>\n",
       "      <td>Don't know</td>\n",
       "      <td>No</td>\n",
       "      <td>NaN</td>\n",
       "    </tr>\n",
       "    <tr>\n",
       "      <th>1059</th>\n",
       "      <td>2014-08-29 11:53:59</td>\n",
       "      <td>28</td>\n",
       "      <td>Female</td>\n",
       "      <td>United States</td>\n",
       "      <td>OR</td>\n",
       "      <td>No</td>\n",
       "      <td>No</td>\n",
       "      <td>Yes</td>\n",
       "      <td>Rarely</td>\n",
       "      <td>6-25</td>\n",
       "      <td>No</td>\n",
       "      <td>Yes</td>\n",
       "      <td>Yes</td>\n",
       "      <td>Yes</td>\n",
       "      <td>Don't know</td>\n",
       "      <td>Yes</td>\n",
       "      <td>Yes</td>\n",
       "      <td>Very easy</td>\n",
       "      <td>No</td>\n",
       "      <td>No</td>\n",
       "      <td>Some of them</td>\n",
       "      <td>Some of them</td>\n",
       "      <td>No</td>\n",
       "      <td>Yes</td>\n",
       "      <td>Don't know</td>\n",
       "      <td>No</td>\n",
       "      <td>NaN</td>\n",
       "    </tr>\n",
       "  </tbody>\n",
       "</table>\n",
       "</div>"
      ],
      "text/plain": [
       "                Timestamp  Age  Gender         Country state self_employed  \\\n",
       "1042  2014-08-29 11:20:28   40       M   United States    WI            No   \n",
       "935   2014-08-28 22:20:33   38    Male  United Kingdom   NaN           Yes   \n",
       "692   2014-08-28 09:54:51   30       m         Germany   NaN            No   \n",
       "567   2014-08-27 19:41:28   32    Male   United States    CA            No   \n",
       "1059  2014-08-29 11:53:59   28  Female   United States    OR            No   \n",
       "\n",
       "     family_history treatment work_interfere    no_employees remote_work  \\\n",
       "1042            Yes       Yes      Sometimes  More than 1000         Yes   \n",
       "935             Yes       Yes         Rarely             1-5         Yes   \n",
       "692              No        No            NaN          26-100          No   \n",
       "567              No       Yes      Sometimes  More than 1000          No   \n",
       "1059             No       Yes         Rarely            6-25          No   \n",
       "\n",
       "     tech_company    benefits care_options wellness_program   seek_help  \\\n",
       "1042          Yes         Yes          Yes               No         Yes   \n",
       "935            No          No           No               No          No   \n",
       "692           Yes  Don't know           No               No  Don't know   \n",
       "567           Yes         Yes           No               No         Yes   \n",
       "1059          Yes         Yes          Yes       Don't know         Yes   \n",
       "\n",
       "       anonymity           leave mental_health_consequence  \\\n",
       "1042  Don't know      Don't know                       Yes   \n",
       "935          Yes  Very difficult                     Maybe   \n",
       "692          Yes   Somewhat easy                        No   \n",
       "567   Don't know   Somewhat easy                        No   \n",
       "1059         Yes       Very easy                        No   \n",
       "\n",
       "     phys_health_consequence     coworkers    supervisor  \\\n",
       "1042                      No            No            No   \n",
       "935                       No            No            No   \n",
       "692                       No  Some of them            No   \n",
       "567                       No           Yes  Some of them   \n",
       "1059                      No  Some of them  Some of them   \n",
       "\n",
       "     mental_health_interview phys_health_interview mental_vs_physical  \\\n",
       "1042                      No                 Maybe         Don't know   \n",
       "935                       No                    No                 No   \n",
       "692                    Maybe                 Maybe         Don't know   \n",
       "567                    Maybe                   Yes         Don't know   \n",
       "1059                      No                   Yes         Don't know   \n",
       "\n",
       "     obs_consequence comments  \n",
       "1042              No      NaN  \n",
       "935               No      NaN  \n",
       "692               No      NaN  \n",
       "567               No      NaN  \n",
       "1059              No      NaN  "
      ]
     },
     "execution_count": 6,
     "metadata": {},
     "output_type": "execute_result"
    }
   ],
   "source": [
    "df.sample(5)"
   ]
  },
  {
   "cell_type": "markdown",
   "id": "db89b690",
   "metadata": {},
   "source": [
    "# Information about the Data"
   ]
  },
  {
   "cell_type": "code",
   "execution_count": 7,
   "id": "ba4b58cc",
   "metadata": {},
   "outputs": [
    {
     "name": "stdout",
     "output_type": "stream",
     "text": [
      "<class 'pandas.core.frame.DataFrame'>\n",
      "RangeIndex: 1259 entries, 0 to 1258\n",
      "Data columns (total 27 columns):\n",
      " #   Column                     Non-Null Count  Dtype \n",
      "---  ------                     --------------  ----- \n",
      " 0   Timestamp                  1259 non-null   object\n",
      " 1   Age                        1259 non-null   int64 \n",
      " 2   Gender                     1259 non-null   object\n",
      " 3   Country                    1259 non-null   object\n",
      " 4   state                      744 non-null    object\n",
      " 5   self_employed              1241 non-null   object\n",
      " 6   family_history             1259 non-null   object\n",
      " 7   treatment                  1259 non-null   object\n",
      " 8   work_interfere             995 non-null    object\n",
      " 9   no_employees               1259 non-null   object\n",
      " 10  remote_work                1259 non-null   object\n",
      " 11  tech_company               1259 non-null   object\n",
      " 12  benefits                   1259 non-null   object\n",
      " 13  care_options               1259 non-null   object\n",
      " 14  wellness_program           1259 non-null   object\n",
      " 15  seek_help                  1259 non-null   object\n",
      " 16  anonymity                  1259 non-null   object\n",
      " 17  leave                      1259 non-null   object\n",
      " 18  mental_health_consequence  1259 non-null   object\n",
      " 19  phys_health_consequence    1259 non-null   object\n",
      " 20  coworkers                  1259 non-null   object\n",
      " 21  supervisor                 1259 non-null   object\n",
      " 22  mental_health_interview    1259 non-null   object\n",
      " 23  phys_health_interview      1259 non-null   object\n",
      " 24  mental_vs_physical         1259 non-null   object\n",
      " 25  obs_consequence            1259 non-null   object\n",
      " 26  comments                   164 non-null    object\n",
      "dtypes: int64(1), object(26)\n",
      "memory usage: 265.7+ KB\n"
     ]
    }
   ],
   "source": [
    "df.info()"
   ]
  },
  {
   "cell_type": "raw",
   "id": "d3a55ada",
   "metadata": {},
   "source": [
    " -->  Except the Age column all the other columns are of String Type "
   ]
  },
  {
   "cell_type": "markdown",
   "id": "c9ce6ba3",
   "metadata": {},
   "source": [
    "# Checking for the Missing Values"
   ]
  },
  {
   "cell_type": "code",
   "execution_count": 8,
   "id": "da56fc99",
   "metadata": {},
   "outputs": [
    {
     "data": {
      "text/plain": [
       "Timestamp                       0\n",
       "Age                             0\n",
       "Gender                          0\n",
       "Country                         0\n",
       "state                         515\n",
       "self_employed                  18\n",
       "family_history                  0\n",
       "treatment                       0\n",
       "work_interfere                264\n",
       "no_employees                    0\n",
       "remote_work                     0\n",
       "tech_company                    0\n",
       "benefits                        0\n",
       "care_options                    0\n",
       "wellness_program                0\n",
       "seek_help                       0\n",
       "anonymity                       0\n",
       "leave                           0\n",
       "mental_health_consequence       0\n",
       "phys_health_consequence         0\n",
       "coworkers                       0\n",
       "supervisor                      0\n",
       "mental_health_interview         0\n",
       "phys_health_interview           0\n",
       "mental_vs_physical              0\n",
       "obs_consequence                 0\n",
       "comments                     1095\n",
       "dtype: int64"
      ]
     },
     "execution_count": 8,
     "metadata": {},
     "output_type": "execute_result"
    }
   ],
   "source": [
    "df.isnull().sum()"
   ]
  },
  {
   "cell_type": "markdown",
   "id": "871c1312",
   "metadata": {},
   "source": [
    "There are 515 missing values in the State column\n",
    "264 Missing values in the work_interfare\n",
    "18 in the Self_empoployed\n",
    "1095 in the comments "
   ]
  },
  {
   "cell_type": "code",
   "execution_count": 9,
   "id": "21cb0af9",
   "metadata": {},
   "outputs": [
    {
     "data": {
      "text/plain": [
       "Timestamp                     0.00\n",
       "Age                           0.00\n",
       "Gender                        0.00\n",
       "Country                       0.00\n",
       "state                        40.91\n",
       "self_employed                 1.43\n",
       "family_history                0.00\n",
       "treatment                     0.00\n",
       "work_interfere               20.97\n",
       "no_employees                  0.00\n",
       "remote_work                   0.00\n",
       "tech_company                  0.00\n",
       "benefits                      0.00\n",
       "care_options                  0.00\n",
       "wellness_program              0.00\n",
       "seek_help                     0.00\n",
       "anonymity                     0.00\n",
       "leave                         0.00\n",
       "mental_health_consequence     0.00\n",
       "phys_health_consequence       0.00\n",
       "coworkers                     0.00\n",
       "supervisor                    0.00\n",
       "mental_health_interview       0.00\n",
       "phys_health_interview         0.00\n",
       "mental_vs_physical            0.00\n",
       "obs_consequence               0.00\n",
       "comments                     86.97\n",
       "dtype: float64"
      ]
     },
     "execution_count": 9,
     "metadata": {},
     "output_type": "execute_result"
    }
   ],
   "source": [
    "# percentage wise null values in the dataset\n",
    "\n",
    "round((df.isna().sum()/df.shape[0])*100,2)"
   ]
  },
  {
   "cell_type": "markdown",
   "id": "a2ca9a67",
   "metadata": {},
   "source": [
    "There are Almost 87% null values in the comments column, So it will not add any significance to our model.\n",
    "As it is survey based data its not neccesary to add comments\n",
    "We can drop that column. "
   ]
  },
  {
   "cell_type": "markdown",
   "id": "90cd7812",
   "metadata": {},
   "source": [
    "# Checking for the Duplicate Values in the dataset"
   ]
  },
  {
   "cell_type": "code",
   "execution_count": 10,
   "id": "29dd0d48",
   "metadata": {},
   "outputs": [
    {
     "data": {
      "text/plain": [
       "0"
      ]
     },
     "execution_count": 10,
     "metadata": {},
     "output_type": "execute_result"
    }
   ],
   "source": [
    "df.duplicated().sum()\n",
    "\n",
    "# There are no duplicate value in the Dataset."
   ]
  },
  {
   "cell_type": "code",
   "execution_count": 11,
   "id": "fe816053",
   "metadata": {},
   "outputs": [
    {
     "data": {
      "text/plain": [
       "United States             751\n",
       "United Kingdom            185\n",
       "Canada                     72\n",
       "Germany                    45\n",
       "Ireland                    27\n",
       "Netherlands                27\n",
       "Australia                  21\n",
       "France                     13\n",
       "India                      10\n",
       "New Zealand                 8\n",
       "Poland                      7\n",
       "Switzerland                 7\n",
       "Sweden                      7\n",
       "Italy                       7\n",
       "South Africa                6\n",
       "Belgium                     6\n",
       "Brazil                      6\n",
       "Israel                      5\n",
       "Singapore                   4\n",
       "Bulgaria                    4\n",
       "Austria                     3\n",
       "Finland                     3\n",
       "Mexico                      3\n",
       "Russia                      3\n",
       "Denmark                     2\n",
       "Greece                      2\n",
       "Colombia                    2\n",
       "Croatia                     2\n",
       "Portugal                    2\n",
       "Moldova                     1\n",
       "Georgia                     1\n",
       "Bahamas, The                1\n",
       "China                       1\n",
       "Thailand                    1\n",
       "Czech Republic              1\n",
       "Norway                      1\n",
       "Romania                     1\n",
       "Nigeria                     1\n",
       "Japan                       1\n",
       "Hungary                     1\n",
       "Bosnia and Herzegovina      1\n",
       "Uruguay                     1\n",
       "Spain                       1\n",
       "Zimbabwe                    1\n",
       "Latvia                      1\n",
       "Costa Rica                  1\n",
       "Slovenia                    1\n",
       "Philippines                 1\n",
       "Name: Country, dtype: int64"
      ]
     },
     "execution_count": 11,
     "metadata": {},
     "output_type": "execute_result"
    }
   ],
   "source": [
    "# Checking columns that can be dropped for reducing dimensionality of the dataset\n",
    "\n",
    "df['Country'].value_counts()"
   ]
  },
  {
   "cell_type": "markdown",
   "id": "e751a4a5",
   "metadata": {},
   "source": [
    "This data shows that most of the mental illness is in USA .\n",
    "But it is completelty Misleading as most of the people who get surveyed are from the USA.\n",
    "We can drop this column too as it will lead to confusion in the Final Output."
   ]
  },
  {
   "cell_type": "code",
   "execution_count": 12,
   "id": "c8270b44",
   "metadata": {},
   "outputs": [
    {
     "data": {
      "text/plain": [
       "array(['IL', 'IN', nan, 'TX', 'TN', 'MI', 'OH', 'CA', 'CT', 'MD', 'NY',\n",
       "       'NC', 'MA', 'IA', 'PA', 'WA', 'WI', 'UT', 'NM', 'OR', 'FL', 'MN',\n",
       "       'MO', 'AZ', 'CO', 'GA', 'DC', 'NE', 'WV', 'OK', 'KS', 'VA', 'NH',\n",
       "       'KY', 'AL', 'NV', 'NJ', 'SC', 'VT', 'SD', 'ID', 'MS', 'RI', 'WY',\n",
       "       'LA', 'ME'], dtype=object)"
      ]
     },
     "execution_count": 12,
     "metadata": {},
     "output_type": "execute_result"
    }
   ],
   "source": [
    "df['state'].unique()"
   ]
  },
  {
   "cell_type": "markdown",
   "id": "cd856cf4",
   "metadata": {},
   "source": [
    "After doing comprehensive study of the Data it is clear that all the state are of USA only.\n",
    "In case of data from other country , State column is filled with null value.\n",
    "So we will drop this column too.\n"
   ]
  },
  {
   "cell_type": "markdown",
   "id": "e2729978",
   "metadata": {},
   "source": [
    "# Dropping the columns "
   ]
  },
  {
   "cell_type": "code",
   "execution_count": 13,
   "id": "a252617f",
   "metadata": {},
   "outputs": [],
   "source": [
    "df=df.drop(['Country','state','comments'],axis=1)"
   ]
  },
  {
   "cell_type": "code",
   "execution_count": 14,
   "id": "cea56626",
   "metadata": {},
   "outputs": [],
   "source": [
    "# Also dropping the Timestamp column as there is no significance of that column too it is simply giving us the time of being \n",
    "#Surveyed\n",
    "\n",
    "df=df.drop('Timestamp',axis=1)"
   ]
  },
  {
   "cell_type": "code",
   "execution_count": 15,
   "id": "57976f25",
   "metadata": {},
   "outputs": [
    {
     "data": {
      "text/html": [
       "<div>\n",
       "<style scoped>\n",
       "    .dataframe tbody tr th:only-of-type {\n",
       "        vertical-align: middle;\n",
       "    }\n",
       "\n",
       "    .dataframe tbody tr th {\n",
       "        vertical-align: top;\n",
       "    }\n",
       "\n",
       "    .dataframe thead th {\n",
       "        text-align: right;\n",
       "    }\n",
       "</style>\n",
       "<table border=\"1\" class=\"dataframe\">\n",
       "  <thead>\n",
       "    <tr style=\"text-align: right;\">\n",
       "      <th></th>\n",
       "      <th>Age</th>\n",
       "      <th>Gender</th>\n",
       "      <th>self_employed</th>\n",
       "      <th>family_history</th>\n",
       "      <th>treatment</th>\n",
       "      <th>work_interfere</th>\n",
       "      <th>no_employees</th>\n",
       "      <th>remote_work</th>\n",
       "      <th>tech_company</th>\n",
       "      <th>benefits</th>\n",
       "      <th>care_options</th>\n",
       "      <th>wellness_program</th>\n",
       "      <th>seek_help</th>\n",
       "      <th>anonymity</th>\n",
       "      <th>leave</th>\n",
       "      <th>mental_health_consequence</th>\n",
       "      <th>phys_health_consequence</th>\n",
       "      <th>coworkers</th>\n",
       "      <th>supervisor</th>\n",
       "      <th>mental_health_interview</th>\n",
       "      <th>phys_health_interview</th>\n",
       "      <th>mental_vs_physical</th>\n",
       "      <th>obs_consequence</th>\n",
       "    </tr>\n",
       "  </thead>\n",
       "  <tbody>\n",
       "    <tr>\n",
       "      <th>0</th>\n",
       "      <td>37</td>\n",
       "      <td>Female</td>\n",
       "      <td>NaN</td>\n",
       "      <td>No</td>\n",
       "      <td>Yes</td>\n",
       "      <td>Often</td>\n",
       "      <td>6-25</td>\n",
       "      <td>No</td>\n",
       "      <td>Yes</td>\n",
       "      <td>Yes</td>\n",
       "      <td>Not sure</td>\n",
       "      <td>No</td>\n",
       "      <td>Yes</td>\n",
       "      <td>Yes</td>\n",
       "      <td>Somewhat easy</td>\n",
       "      <td>No</td>\n",
       "      <td>No</td>\n",
       "      <td>Some of them</td>\n",
       "      <td>Yes</td>\n",
       "      <td>No</td>\n",
       "      <td>Maybe</td>\n",
       "      <td>Yes</td>\n",
       "      <td>No</td>\n",
       "    </tr>\n",
       "    <tr>\n",
       "      <th>1</th>\n",
       "      <td>44</td>\n",
       "      <td>M</td>\n",
       "      <td>NaN</td>\n",
       "      <td>No</td>\n",
       "      <td>No</td>\n",
       "      <td>Rarely</td>\n",
       "      <td>More than 1000</td>\n",
       "      <td>No</td>\n",
       "      <td>No</td>\n",
       "      <td>Don't know</td>\n",
       "      <td>No</td>\n",
       "      <td>Don't know</td>\n",
       "      <td>Don't know</td>\n",
       "      <td>Don't know</td>\n",
       "      <td>Don't know</td>\n",
       "      <td>Maybe</td>\n",
       "      <td>No</td>\n",
       "      <td>No</td>\n",
       "      <td>No</td>\n",
       "      <td>No</td>\n",
       "      <td>No</td>\n",
       "      <td>Don't know</td>\n",
       "      <td>No</td>\n",
       "    </tr>\n",
       "    <tr>\n",
       "      <th>2</th>\n",
       "      <td>32</td>\n",
       "      <td>Male</td>\n",
       "      <td>NaN</td>\n",
       "      <td>No</td>\n",
       "      <td>No</td>\n",
       "      <td>Rarely</td>\n",
       "      <td>6-25</td>\n",
       "      <td>No</td>\n",
       "      <td>Yes</td>\n",
       "      <td>No</td>\n",
       "      <td>No</td>\n",
       "      <td>No</td>\n",
       "      <td>No</td>\n",
       "      <td>Don't know</td>\n",
       "      <td>Somewhat difficult</td>\n",
       "      <td>No</td>\n",
       "      <td>No</td>\n",
       "      <td>Yes</td>\n",
       "      <td>Yes</td>\n",
       "      <td>Yes</td>\n",
       "      <td>Yes</td>\n",
       "      <td>No</td>\n",
       "      <td>No</td>\n",
       "    </tr>\n",
       "    <tr>\n",
       "      <th>3</th>\n",
       "      <td>31</td>\n",
       "      <td>Male</td>\n",
       "      <td>NaN</td>\n",
       "      <td>Yes</td>\n",
       "      <td>Yes</td>\n",
       "      <td>Often</td>\n",
       "      <td>26-100</td>\n",
       "      <td>No</td>\n",
       "      <td>Yes</td>\n",
       "      <td>No</td>\n",
       "      <td>Yes</td>\n",
       "      <td>No</td>\n",
       "      <td>No</td>\n",
       "      <td>No</td>\n",
       "      <td>Somewhat difficult</td>\n",
       "      <td>Yes</td>\n",
       "      <td>Yes</td>\n",
       "      <td>Some of them</td>\n",
       "      <td>No</td>\n",
       "      <td>Maybe</td>\n",
       "      <td>Maybe</td>\n",
       "      <td>No</td>\n",
       "      <td>Yes</td>\n",
       "    </tr>\n",
       "    <tr>\n",
       "      <th>4</th>\n",
       "      <td>31</td>\n",
       "      <td>Male</td>\n",
       "      <td>NaN</td>\n",
       "      <td>No</td>\n",
       "      <td>No</td>\n",
       "      <td>Never</td>\n",
       "      <td>100-500</td>\n",
       "      <td>Yes</td>\n",
       "      <td>Yes</td>\n",
       "      <td>Yes</td>\n",
       "      <td>No</td>\n",
       "      <td>Don't know</td>\n",
       "      <td>Don't know</td>\n",
       "      <td>Don't know</td>\n",
       "      <td>Don't know</td>\n",
       "      <td>No</td>\n",
       "      <td>No</td>\n",
       "      <td>Some of them</td>\n",
       "      <td>Yes</td>\n",
       "      <td>Yes</td>\n",
       "      <td>Yes</td>\n",
       "      <td>Don't know</td>\n",
       "      <td>No</td>\n",
       "    </tr>\n",
       "  </tbody>\n",
       "</table>\n",
       "</div>"
      ],
      "text/plain": [
       "   Age  Gender self_employed family_history treatment work_interfere  \\\n",
       "0   37  Female           NaN             No       Yes          Often   \n",
       "1   44       M           NaN             No        No         Rarely   \n",
       "2   32    Male           NaN             No        No         Rarely   \n",
       "3   31    Male           NaN            Yes       Yes          Often   \n",
       "4   31    Male           NaN             No        No          Never   \n",
       "\n",
       "     no_employees remote_work tech_company    benefits care_options  \\\n",
       "0            6-25          No          Yes         Yes     Not sure   \n",
       "1  More than 1000          No           No  Don't know           No   \n",
       "2            6-25          No          Yes          No           No   \n",
       "3          26-100          No          Yes          No          Yes   \n",
       "4         100-500         Yes          Yes         Yes           No   \n",
       "\n",
       "  wellness_program   seek_help   anonymity               leave  \\\n",
       "0               No         Yes         Yes       Somewhat easy   \n",
       "1       Don't know  Don't know  Don't know          Don't know   \n",
       "2               No          No  Don't know  Somewhat difficult   \n",
       "3               No          No          No  Somewhat difficult   \n",
       "4       Don't know  Don't know  Don't know          Don't know   \n",
       "\n",
       "  mental_health_consequence phys_health_consequence     coworkers supervisor  \\\n",
       "0                        No                      No  Some of them        Yes   \n",
       "1                     Maybe                      No            No         No   \n",
       "2                        No                      No           Yes        Yes   \n",
       "3                       Yes                     Yes  Some of them         No   \n",
       "4                        No                      No  Some of them        Yes   \n",
       "\n",
       "  mental_health_interview phys_health_interview mental_vs_physical  \\\n",
       "0                      No                 Maybe                Yes   \n",
       "1                      No                    No         Don't know   \n",
       "2                     Yes                   Yes                 No   \n",
       "3                   Maybe                 Maybe                 No   \n",
       "4                     Yes                   Yes         Don't know   \n",
       "\n",
       "  obs_consequence  \n",
       "0              No  \n",
       "1              No  \n",
       "2              No  \n",
       "3             Yes  \n",
       "4              No  "
      ]
     },
     "execution_count": 15,
     "metadata": {},
     "output_type": "execute_result"
    }
   ],
   "source": [
    "# View of the data after dropping columns\n",
    "\n",
    "df.head()\n"
   ]
  },
  {
   "cell_type": "markdown",
   "id": "61adfcfb",
   "metadata": {},
   "source": [
    "# Data description"
   ]
  },
  {
   "cell_type": "code",
   "execution_count": 16,
   "id": "0312607c",
   "metadata": {},
   "outputs": [
    {
     "data": {
      "text/html": [
       "<div>\n",
       "<style scoped>\n",
       "    .dataframe tbody tr th:only-of-type {\n",
       "        vertical-align: middle;\n",
       "    }\n",
       "\n",
       "    .dataframe tbody tr th {\n",
       "        vertical-align: top;\n",
       "    }\n",
       "\n",
       "    .dataframe thead th {\n",
       "        text-align: right;\n",
       "    }\n",
       "</style>\n",
       "<table border=\"1\" class=\"dataframe\">\n",
       "  <thead>\n",
       "    <tr style=\"text-align: right;\">\n",
       "      <th></th>\n",
       "      <th>Age</th>\n",
       "      <th>Gender</th>\n",
       "      <th>self_employed</th>\n",
       "      <th>family_history</th>\n",
       "      <th>treatment</th>\n",
       "      <th>work_interfere</th>\n",
       "      <th>no_employees</th>\n",
       "      <th>remote_work</th>\n",
       "      <th>tech_company</th>\n",
       "      <th>benefits</th>\n",
       "      <th>care_options</th>\n",
       "      <th>wellness_program</th>\n",
       "      <th>seek_help</th>\n",
       "      <th>anonymity</th>\n",
       "      <th>leave</th>\n",
       "      <th>mental_health_consequence</th>\n",
       "      <th>phys_health_consequence</th>\n",
       "      <th>coworkers</th>\n",
       "      <th>supervisor</th>\n",
       "      <th>mental_health_interview</th>\n",
       "      <th>phys_health_interview</th>\n",
       "      <th>mental_vs_physical</th>\n",
       "      <th>obs_consequence</th>\n",
       "    </tr>\n",
       "  </thead>\n",
       "  <tbody>\n",
       "    <tr>\n",
       "      <th>count</th>\n",
       "      <td>1.259000e+03</td>\n",
       "      <td>1259</td>\n",
       "      <td>1241</td>\n",
       "      <td>1259</td>\n",
       "      <td>1259</td>\n",
       "      <td>995</td>\n",
       "      <td>1259</td>\n",
       "      <td>1259</td>\n",
       "      <td>1259</td>\n",
       "      <td>1259</td>\n",
       "      <td>1259</td>\n",
       "      <td>1259</td>\n",
       "      <td>1259</td>\n",
       "      <td>1259</td>\n",
       "      <td>1259</td>\n",
       "      <td>1259</td>\n",
       "      <td>1259</td>\n",
       "      <td>1259</td>\n",
       "      <td>1259</td>\n",
       "      <td>1259</td>\n",
       "      <td>1259</td>\n",
       "      <td>1259</td>\n",
       "      <td>1259</td>\n",
       "    </tr>\n",
       "    <tr>\n",
       "      <th>unique</th>\n",
       "      <td>NaN</td>\n",
       "      <td>49</td>\n",
       "      <td>2</td>\n",
       "      <td>2</td>\n",
       "      <td>2</td>\n",
       "      <td>4</td>\n",
       "      <td>6</td>\n",
       "      <td>2</td>\n",
       "      <td>2</td>\n",
       "      <td>3</td>\n",
       "      <td>3</td>\n",
       "      <td>3</td>\n",
       "      <td>3</td>\n",
       "      <td>3</td>\n",
       "      <td>5</td>\n",
       "      <td>3</td>\n",
       "      <td>3</td>\n",
       "      <td>3</td>\n",
       "      <td>3</td>\n",
       "      <td>3</td>\n",
       "      <td>3</td>\n",
       "      <td>3</td>\n",
       "      <td>2</td>\n",
       "    </tr>\n",
       "    <tr>\n",
       "      <th>top</th>\n",
       "      <td>NaN</td>\n",
       "      <td>Male</td>\n",
       "      <td>No</td>\n",
       "      <td>No</td>\n",
       "      <td>Yes</td>\n",
       "      <td>Sometimes</td>\n",
       "      <td>6-25</td>\n",
       "      <td>No</td>\n",
       "      <td>Yes</td>\n",
       "      <td>Yes</td>\n",
       "      <td>No</td>\n",
       "      <td>No</td>\n",
       "      <td>No</td>\n",
       "      <td>Don't know</td>\n",
       "      <td>Don't know</td>\n",
       "      <td>No</td>\n",
       "      <td>No</td>\n",
       "      <td>Some of them</td>\n",
       "      <td>Yes</td>\n",
       "      <td>No</td>\n",
       "      <td>Maybe</td>\n",
       "      <td>Don't know</td>\n",
       "      <td>No</td>\n",
       "    </tr>\n",
       "    <tr>\n",
       "      <th>freq</th>\n",
       "      <td>NaN</td>\n",
       "      <td>615</td>\n",
       "      <td>1095</td>\n",
       "      <td>767</td>\n",
       "      <td>637</td>\n",
       "      <td>465</td>\n",
       "      <td>290</td>\n",
       "      <td>883</td>\n",
       "      <td>1031</td>\n",
       "      <td>477</td>\n",
       "      <td>501</td>\n",
       "      <td>842</td>\n",
       "      <td>646</td>\n",
       "      <td>819</td>\n",
       "      <td>563</td>\n",
       "      <td>490</td>\n",
       "      <td>925</td>\n",
       "      <td>774</td>\n",
       "      <td>516</td>\n",
       "      <td>1008</td>\n",
       "      <td>557</td>\n",
       "      <td>576</td>\n",
       "      <td>1075</td>\n",
       "    </tr>\n",
       "    <tr>\n",
       "      <th>mean</th>\n",
       "      <td>7.942815e+07</td>\n",
       "      <td>NaN</td>\n",
       "      <td>NaN</td>\n",
       "      <td>NaN</td>\n",
       "      <td>NaN</td>\n",
       "      <td>NaN</td>\n",
       "      <td>NaN</td>\n",
       "      <td>NaN</td>\n",
       "      <td>NaN</td>\n",
       "      <td>NaN</td>\n",
       "      <td>NaN</td>\n",
       "      <td>NaN</td>\n",
       "      <td>NaN</td>\n",
       "      <td>NaN</td>\n",
       "      <td>NaN</td>\n",
       "      <td>NaN</td>\n",
       "      <td>NaN</td>\n",
       "      <td>NaN</td>\n",
       "      <td>NaN</td>\n",
       "      <td>NaN</td>\n",
       "      <td>NaN</td>\n",
       "      <td>NaN</td>\n",
       "      <td>NaN</td>\n",
       "    </tr>\n",
       "    <tr>\n",
       "      <th>std</th>\n",
       "      <td>2.818299e+09</td>\n",
       "      <td>NaN</td>\n",
       "      <td>NaN</td>\n",
       "      <td>NaN</td>\n",
       "      <td>NaN</td>\n",
       "      <td>NaN</td>\n",
       "      <td>NaN</td>\n",
       "      <td>NaN</td>\n",
       "      <td>NaN</td>\n",
       "      <td>NaN</td>\n",
       "      <td>NaN</td>\n",
       "      <td>NaN</td>\n",
       "      <td>NaN</td>\n",
       "      <td>NaN</td>\n",
       "      <td>NaN</td>\n",
       "      <td>NaN</td>\n",
       "      <td>NaN</td>\n",
       "      <td>NaN</td>\n",
       "      <td>NaN</td>\n",
       "      <td>NaN</td>\n",
       "      <td>NaN</td>\n",
       "      <td>NaN</td>\n",
       "      <td>NaN</td>\n",
       "    </tr>\n",
       "    <tr>\n",
       "      <th>min</th>\n",
       "      <td>-1.726000e+03</td>\n",
       "      <td>NaN</td>\n",
       "      <td>NaN</td>\n",
       "      <td>NaN</td>\n",
       "      <td>NaN</td>\n",
       "      <td>NaN</td>\n",
       "      <td>NaN</td>\n",
       "      <td>NaN</td>\n",
       "      <td>NaN</td>\n",
       "      <td>NaN</td>\n",
       "      <td>NaN</td>\n",
       "      <td>NaN</td>\n",
       "      <td>NaN</td>\n",
       "      <td>NaN</td>\n",
       "      <td>NaN</td>\n",
       "      <td>NaN</td>\n",
       "      <td>NaN</td>\n",
       "      <td>NaN</td>\n",
       "      <td>NaN</td>\n",
       "      <td>NaN</td>\n",
       "      <td>NaN</td>\n",
       "      <td>NaN</td>\n",
       "      <td>NaN</td>\n",
       "    </tr>\n",
       "    <tr>\n",
       "      <th>25%</th>\n",
       "      <td>2.700000e+01</td>\n",
       "      <td>NaN</td>\n",
       "      <td>NaN</td>\n",
       "      <td>NaN</td>\n",
       "      <td>NaN</td>\n",
       "      <td>NaN</td>\n",
       "      <td>NaN</td>\n",
       "      <td>NaN</td>\n",
       "      <td>NaN</td>\n",
       "      <td>NaN</td>\n",
       "      <td>NaN</td>\n",
       "      <td>NaN</td>\n",
       "      <td>NaN</td>\n",
       "      <td>NaN</td>\n",
       "      <td>NaN</td>\n",
       "      <td>NaN</td>\n",
       "      <td>NaN</td>\n",
       "      <td>NaN</td>\n",
       "      <td>NaN</td>\n",
       "      <td>NaN</td>\n",
       "      <td>NaN</td>\n",
       "      <td>NaN</td>\n",
       "      <td>NaN</td>\n",
       "    </tr>\n",
       "    <tr>\n",
       "      <th>50%</th>\n",
       "      <td>3.100000e+01</td>\n",
       "      <td>NaN</td>\n",
       "      <td>NaN</td>\n",
       "      <td>NaN</td>\n",
       "      <td>NaN</td>\n",
       "      <td>NaN</td>\n",
       "      <td>NaN</td>\n",
       "      <td>NaN</td>\n",
       "      <td>NaN</td>\n",
       "      <td>NaN</td>\n",
       "      <td>NaN</td>\n",
       "      <td>NaN</td>\n",
       "      <td>NaN</td>\n",
       "      <td>NaN</td>\n",
       "      <td>NaN</td>\n",
       "      <td>NaN</td>\n",
       "      <td>NaN</td>\n",
       "      <td>NaN</td>\n",
       "      <td>NaN</td>\n",
       "      <td>NaN</td>\n",
       "      <td>NaN</td>\n",
       "      <td>NaN</td>\n",
       "      <td>NaN</td>\n",
       "    </tr>\n",
       "    <tr>\n",
       "      <th>75%</th>\n",
       "      <td>3.600000e+01</td>\n",
       "      <td>NaN</td>\n",
       "      <td>NaN</td>\n",
       "      <td>NaN</td>\n",
       "      <td>NaN</td>\n",
       "      <td>NaN</td>\n",
       "      <td>NaN</td>\n",
       "      <td>NaN</td>\n",
       "      <td>NaN</td>\n",
       "      <td>NaN</td>\n",
       "      <td>NaN</td>\n",
       "      <td>NaN</td>\n",
       "      <td>NaN</td>\n",
       "      <td>NaN</td>\n",
       "      <td>NaN</td>\n",
       "      <td>NaN</td>\n",
       "      <td>NaN</td>\n",
       "      <td>NaN</td>\n",
       "      <td>NaN</td>\n",
       "      <td>NaN</td>\n",
       "      <td>NaN</td>\n",
       "      <td>NaN</td>\n",
       "      <td>NaN</td>\n",
       "    </tr>\n",
       "    <tr>\n",
       "      <th>max</th>\n",
       "      <td>1.000000e+11</td>\n",
       "      <td>NaN</td>\n",
       "      <td>NaN</td>\n",
       "      <td>NaN</td>\n",
       "      <td>NaN</td>\n",
       "      <td>NaN</td>\n",
       "      <td>NaN</td>\n",
       "      <td>NaN</td>\n",
       "      <td>NaN</td>\n",
       "      <td>NaN</td>\n",
       "      <td>NaN</td>\n",
       "      <td>NaN</td>\n",
       "      <td>NaN</td>\n",
       "      <td>NaN</td>\n",
       "      <td>NaN</td>\n",
       "      <td>NaN</td>\n",
       "      <td>NaN</td>\n",
       "      <td>NaN</td>\n",
       "      <td>NaN</td>\n",
       "      <td>NaN</td>\n",
       "      <td>NaN</td>\n",
       "      <td>NaN</td>\n",
       "      <td>NaN</td>\n",
       "    </tr>\n",
       "  </tbody>\n",
       "</table>\n",
       "</div>"
      ],
      "text/plain": [
       "                 Age Gender self_employed family_history treatment  \\\n",
       "count   1.259000e+03   1259          1241           1259      1259   \n",
       "unique           NaN     49             2              2         2   \n",
       "top              NaN   Male            No             No       Yes   \n",
       "freq             NaN    615          1095            767       637   \n",
       "mean    7.942815e+07    NaN           NaN            NaN       NaN   \n",
       "std     2.818299e+09    NaN           NaN            NaN       NaN   \n",
       "min    -1.726000e+03    NaN           NaN            NaN       NaN   \n",
       "25%     2.700000e+01    NaN           NaN            NaN       NaN   \n",
       "50%     3.100000e+01    NaN           NaN            NaN       NaN   \n",
       "75%     3.600000e+01    NaN           NaN            NaN       NaN   \n",
       "max     1.000000e+11    NaN           NaN            NaN       NaN   \n",
       "\n",
       "       work_interfere no_employees remote_work tech_company benefits  \\\n",
       "count             995         1259        1259         1259     1259   \n",
       "unique              4            6           2            2        3   \n",
       "top         Sometimes         6-25          No          Yes      Yes   \n",
       "freq              465          290         883         1031      477   \n",
       "mean              NaN          NaN         NaN          NaN      NaN   \n",
       "std               NaN          NaN         NaN          NaN      NaN   \n",
       "min               NaN          NaN         NaN          NaN      NaN   \n",
       "25%               NaN          NaN         NaN          NaN      NaN   \n",
       "50%               NaN          NaN         NaN          NaN      NaN   \n",
       "75%               NaN          NaN         NaN          NaN      NaN   \n",
       "max               NaN          NaN         NaN          NaN      NaN   \n",
       "\n",
       "       care_options wellness_program seek_help   anonymity       leave  \\\n",
       "count          1259             1259      1259        1259        1259   \n",
       "unique            3                3         3           3           5   \n",
       "top              No               No        No  Don't know  Don't know   \n",
       "freq            501              842       646         819         563   \n",
       "mean            NaN              NaN       NaN         NaN         NaN   \n",
       "std             NaN              NaN       NaN         NaN         NaN   \n",
       "min             NaN              NaN       NaN         NaN         NaN   \n",
       "25%             NaN              NaN       NaN         NaN         NaN   \n",
       "50%             NaN              NaN       NaN         NaN         NaN   \n",
       "75%             NaN              NaN       NaN         NaN         NaN   \n",
       "max             NaN              NaN       NaN         NaN         NaN   \n",
       "\n",
       "       mental_health_consequence phys_health_consequence     coworkers  \\\n",
       "count                       1259                    1259          1259   \n",
       "unique                         3                       3             3   \n",
       "top                           No                      No  Some of them   \n",
       "freq                         490                     925           774   \n",
       "mean                         NaN                     NaN           NaN   \n",
       "std                          NaN                     NaN           NaN   \n",
       "min                          NaN                     NaN           NaN   \n",
       "25%                          NaN                     NaN           NaN   \n",
       "50%                          NaN                     NaN           NaN   \n",
       "75%                          NaN                     NaN           NaN   \n",
       "max                          NaN                     NaN           NaN   \n",
       "\n",
       "       supervisor mental_health_interview phys_health_interview  \\\n",
       "count        1259                    1259                  1259   \n",
       "unique          3                       3                     3   \n",
       "top           Yes                      No                 Maybe   \n",
       "freq          516                    1008                   557   \n",
       "mean          NaN                     NaN                   NaN   \n",
       "std           NaN                     NaN                   NaN   \n",
       "min           NaN                     NaN                   NaN   \n",
       "25%           NaN                     NaN                   NaN   \n",
       "50%           NaN                     NaN                   NaN   \n",
       "75%           NaN                     NaN                   NaN   \n",
       "max           NaN                     NaN                   NaN   \n",
       "\n",
       "       mental_vs_physical obs_consequence  \n",
       "count                1259            1259  \n",
       "unique                  3               2  \n",
       "top            Don't know              No  \n",
       "freq                  576            1075  \n",
       "mean                  NaN             NaN  \n",
       "std                   NaN             NaN  \n",
       "min                   NaN             NaN  \n",
       "25%                   NaN             NaN  \n",
       "50%                   NaN             NaN  \n",
       "75%                   NaN             NaN  \n",
       "max                   NaN             NaN  "
      ]
     },
     "execution_count": 16,
     "metadata": {},
     "output_type": "execute_result"
    }
   ],
   "source": [
    "round(df.describe(include='all'),2)"
   ]
  },
  {
   "cell_type": "markdown",
   "id": "478ba6d5",
   "metadata": {},
   "source": [
    "There are some Anamolies in the Data.\n",
    "As Age of a person cannot be negative \n",
    "And in Gender column it is showing 49 unique values it is not Possible."
   ]
  },
  {
   "cell_type": "code",
   "execution_count": 17,
   "id": "e4a53178",
   "metadata": {},
   "outputs": [
    {
     "data": {
      "text/plain": [
       "Male                                              615\n",
       "male                                              206\n",
       "Female                                            121\n",
       "M                                                 116\n",
       "female                                             62\n",
       "F                                                  38\n",
       "m                                                  34\n",
       "f                                                  15\n",
       "Make                                                4\n",
       "Male                                                3\n",
       "Woman                                               3\n",
       "Cis Male                                            2\n",
       "Man                                                 2\n",
       "Female (trans)                                      2\n",
       "Female                                              2\n",
       "Trans woman                                         1\n",
       "msle                                                1\n",
       "male leaning androgynous                            1\n",
       "Neuter                                              1\n",
       "cis male                                            1\n",
       "queer                                               1\n",
       "Female (cis)                                        1\n",
       "Mail                                                1\n",
       "cis-female/femme                                    1\n",
       "A little about you                                  1\n",
       "Malr                                                1\n",
       "p                                                   1\n",
       "femail                                              1\n",
       "Cis Man                                             1\n",
       "Guy (-ish) ^_^                                      1\n",
       "Enby                                                1\n",
       "Agender                                             1\n",
       "Androgyne                                           1\n",
       "Male-ish                                            1\n",
       "maile                                               1\n",
       "Trans-female                                        1\n",
       "Cis Female                                          1\n",
       "something kinda male?                               1\n",
       "Mal                                                 1\n",
       "Male (CIS)                                          1\n",
       "queer/she/they                                      1\n",
       "non-binary                                          1\n",
       "Femake                                              1\n",
       "woman                                               1\n",
       "Nah                                                 1\n",
       "All                                                 1\n",
       "fluid                                               1\n",
       "Genderqueer                                         1\n",
       "ostensibly male, unsure what that really means      1\n",
       "Name: Gender, dtype: int64"
      ]
     },
     "execution_count": 17,
     "metadata": {},
     "output_type": "execute_result"
    }
   ],
   "source": [
    "# gender column\n",
    "\n",
    "df['Gender'].value_counts()"
   ]
  },
  {
   "cell_type": "markdown",
   "id": "9ab20079",
   "metadata": {},
   "source": [
    "There are many anamolies in this column.\n",
    "There are spelling errors also different names are used for the same feature.\n",
    "And also we can aggregate Lesbian, Gay,Bisexual,transgender as one unique type."
   ]
  },
  {
   "cell_type": "code",
   "execution_count": 18,
   "id": "1311e090",
   "metadata": {},
   "outputs": [],
   "source": [
    "# All these mean the Male Gender\n",
    "\n",
    "df['Gender'].replace(['Male','male',\"Male \",'M','m','Cis Male','cis male','Mail','Male-ish','Male (CIS)','Cis Man','msle','Malr','Mal',\n",
    "                     'maile','Make','Man'],\"Male\",inplace=True)"
   ]
  },
  {
   "cell_type": "code",
   "execution_count": 19,
   "id": "73c0b540",
   "metadata": {},
   "outputs": [],
   "source": [
    "# All these mean the Female Gender\n",
    "\n",
    "df['Gender'].replace(['Female ', 'female', 'F', 'f', 'Woman', 'Female',\n",
    "                     'femail', 'Cis Female', 'cis-female/femme', 'Femake', 'Female (cis)',\n",
    "                     'woman',], 'Female', inplace = True)"
   ]
  },
  {
   "cell_type": "code",
   "execution_count": 20,
   "id": "5029c9d8",
   "metadata": {},
   "outputs": [],
   "source": [
    "# All these mean the Third Gender/Other\n",
    "\n",
    "df[\"Gender\"].replace(['Female (trans)', 'queer/she/they', 'non-binary',\n",
    "                     'fluid', 'queer', 'Androgyne', 'Trans-female', 'male leaning androgynous',\n",
    "                      'Agender', 'A little about you', 'Nah', 'All',\n",
    "                      'ostensibly male, unsure what that really means',\n",
    "                      'Genderqueer', 'Enby', 'p', 'Neuter', 'something kinda male?',\n",
    "                      'Guy (-ish) ^_^', 'Trans woman',], 'Other', inplace = True)"
   ]
  },
  {
   "cell_type": "code",
   "execution_count": 21,
   "id": "c5b64a31",
   "metadata": {},
   "outputs": [
    {
     "data": {
      "text/plain": [
       "Male      991\n",
       "Female    247\n",
       "Other      21\n",
       "Name: Gender, dtype: int64"
      ]
     },
     "execution_count": 21,
     "metadata": {},
     "output_type": "execute_result"
    }
   ],
   "source": [
    "# Viewing the Final result of the Column\n",
    "\n",
    "df['Gender'].value_counts()"
   ]
  },
  {
   "cell_type": "markdown",
   "id": "0f8033e8",
   "metadata": {},
   "source": [
    "It can seen that Male are more in the number, but it is need not to be true"
   ]
  },
  {
   "cell_type": "code",
   "execution_count": 22,
   "id": "699fa5e5",
   "metadata": {},
   "outputs": [],
   "source": [
    "# Age Column \n",
    "\n",
    "# Imputing the value in this column\n",
    "# People less than 12 years are given as age 15\n",
    "# People more than 80 years as 75\n",
    "\n",
    "df.loc[df.Age<12,'Age']=15\n",
    "df.loc[df.Age>75,'Age']=75"
   ]
  },
  {
   "cell_type": "code",
   "execution_count": 23,
   "id": "ff00bcee",
   "metadata": {},
   "outputs": [
    {
     "data": {
      "text/plain": [
       "<AxesSubplot:>"
      ]
     },
     "execution_count": 23,
     "metadata": {},
     "output_type": "execute_result"
    },
    {
     "data": {
      "image/png": "[encoded data removed]",
      "text/plain": [
       "<Figure size 432x288 with 1 Axes>"
      ]
     },
     "metadata": {
      "needs_background": "light"
     },
     "output_type": "display_data"
    }
   ],
   "source": [
    "# Verifying the Changes made\n",
    "\n",
    "df['Age'].hist()"
   ]
  },
  {
   "cell_type": "markdown",
   "id": "88ea69be",
   "metadata": {},
   "source": [
    "Now we are good to go with this column."
   ]
  },
  {
   "cell_type": "markdown",
   "id": "f088a06e",
   "metadata": {},
   "source": [
    "# Train Test Split"
   ]
  },
  {
   "cell_type": "code",
   "execution_count": 24,
   "id": "c1883768",
   "metadata": {},
   "outputs": [],
   "source": [
    "from sklearn.model_selection import train_test_split\n",
    "\n",
    "train_data, test_data = train_test_split(df,test_size=0.15,stratify=df['treatment'],random_state=2 )"
   ]
  },
  {
   "cell_type": "code",
   "execution_count": 25,
   "id": "ce9c47b6",
   "metadata": {},
   "outputs": [
    {
     "name": "stdout",
     "output_type": "stream",
     "text": [
      "Train_data dimensions : (1070, 23)\n",
      "Test_data dimensions : (189, 23)\n"
     ]
    }
   ],
   "source": [
    "# Dimensions of the train and test data\n",
    "\n",
    "print(\"Train_data dimensions :\",train_data.shape)\n",
    "print(\"Test_data dimensions :\",test_data.shape)"
   ]
  },
  {
   "cell_type": "markdown",
   "id": "744cd861",
   "metadata": {},
   "source": [
    "# EDA "
   ]
  },
  {
   "cell_type": "code",
   "execution_count": 26,
   "id": "765d04e6",
   "metadata": {},
   "outputs": [],
   "source": [
    "# A copy of the original training dataset\n",
    "\n",
    "copy1= train_data.copy()"
   ]
  },
  {
   "cell_type": "code",
   "execution_count": 27,
   "id": "344201d7",
   "metadata": {},
   "outputs": [
    {
     "data": {
      "text/plain": [
       "Index(['Age', 'Gender', 'self_employed', 'family_history', 'treatment',\n",
       "       'work_interfere', 'no_employees', 'remote_work', 'tech_company',\n",
       "       'benefits', 'care_options', 'wellness_program', 'seek_help',\n",
       "       'anonymity', 'leave', 'mental_health_consequence',\n",
       "       'phys_health_consequence', 'coworkers', 'supervisor',\n",
       "       'mental_health_interview', 'phys_health_interview',\n",
       "       'mental_vs_physical', 'obs_consequence'],\n",
       "      dtype='object')"
      ]
     },
     "execution_count": 27,
     "metadata": {},
     "output_type": "execute_result"
    }
   ],
   "source": [
    "# Univariate Analysis\n",
    "\n",
    "copy1.columns"
   ]
  },
  {
   "cell_type": "markdown",
   "id": "24133732",
   "metadata": {},
   "source": [
    "# People who opt for Mental Treatment"
   ]
  },
  {
   "cell_type": "code",
   "execution_count": 28,
   "id": "2d9b99dc",
   "metadata": {},
   "outputs": [
    {
     "data": {
      "text/plain": [
       "<AxesSubplot:xlabel='treatment', ylabel='count'>"
      ]
     },
     "execution_count": 28,
     "metadata": {},
     "output_type": "execute_result"
    },
    {
     "data": {
      "image/png": "[encoded data removed]",
      "text/plain": [
       "<Figure size 432x288 with 1 Axes>"
      ]
     },
     "metadata": {
      "needs_background": "light"
     },
     "output_type": "display_data"
    }
   ],
   "source": [
    "# Treatment column\n",
    "\n",
    "sns.countplot(copy1[\"treatment\"])"
   ]
  },
  {
   "cell_type": "markdown",
   "id": "141ebebc",
   "metadata": {},
   "source": [
    "Little more than 50% people are taking treatment , this is our target varible and there is no such class imbalance we are reday to go with this column.\n"
   ]
  },
  {
   "cell_type": "markdown",
   "id": "0af939bb",
   "metadata": {},
   "source": [
    "# People taking mental health treament according to the Age"
   ]
  },
  {
   "cell_type": "code",
   "execution_count": 29,
   "id": "f82fd3e9",
   "metadata": {},
   "outputs": [
    {
     "data": {
      "text/plain": [
       "<AxesSubplot:xlabel='Age', ylabel='Count'>"
      ]
     },
     "execution_count": 29,
     "metadata": {},
     "output_type": "execute_result"
    },
    {
     "data": {
      "image/png": "[encoded data removed]",
      "text/plain": [
       "<Figure size 432x288 with 1 Axes>"
      ]
     },
     "metadata": {
      "needs_background": "light"
     },
     "output_type": "display_data"
    }
   ],
   "source": [
    "sns.histplot(data=copy1,x='Age',hue='treatment')"
   ]
  },
  {
   "cell_type": "markdown",
   "id": "5249587b",
   "metadata": {},
   "source": [
    "Both the curve are merging so we can take any key insight from here."
   ]
  },
  {
   "cell_type": "markdown",
   "id": "ca509002",
   "metadata": {},
   "source": [
    "# Is Self Employment plays role In Mental Health"
   ]
  },
  {
   "cell_type": "code",
   "execution_count": 30,
   "id": "8a21dc25",
   "metadata": {},
   "outputs": [
    {
     "data": {
      "text/plain": [
       "<AxesSubplot:xlabel='self_employed', ylabel='count'>"
      ]
     },
     "execution_count": 30,
     "metadata": {},
     "output_type": "execute_result"
    },
    {
     "data": {
      "image/png": "[encoded data removed]",
      "text/plain": [
       "<Figure size 432x288 with 1 Axes>"
      ]
     },
     "metadata": {
      "needs_background": "light"
     },
     "output_type": "display_data"
    }
   ],
   "source": [
    "sns.countplot(copy1[\"self_employed\"],hue= copy1['treatment'])"
   ]
  },
  {
   "cell_type": "markdown",
   "id": "78419b06",
   "metadata": {},
   "source": [
    "More than 80% people(approx) are not self_employed.\n",
    "Despite being the large difference , people taking mental treatment are almost same.\n",
    "So it does not Matter whether the person is self_employed or not , person is taking mental help.\n",
    "Their is imbalance but the class distribution is same so no difference at all."
   ]
  },
  {
   "cell_type": "markdown",
   "id": "70e0420a",
   "metadata": {},
   "source": [
    "# Is your mental health affecting your workpower."
   ]
  },
  {
   "cell_type": "code",
   "execution_count": 31,
   "id": "2253d163",
   "metadata": {},
   "outputs": [
    {
     "data": {
      "text/plain": [
       "<AxesSubplot:xlabel='work_interfere', ylabel='count'>"
      ]
     },
     "execution_count": 31,
     "metadata": {},
     "output_type": "execute_result"
    },
    {
     "data": {
      "image/png": "[encoded data removed]",
      "text/plain": [
       "<Figure size 432x288 with 1 Axes>"
      ]
     },
     "metadata": {
      "needs_background": "light"
     },
     "output_type": "display_data"
    }
   ],
   "source": [
    "sns.countplot(data=copy1,x='work_interfere')"
   ]
  },
  {
   "cell_type": "markdown",
   "id": "23863b23",
   "metadata": {},
   "source": [
    "Almost 80% people feel that their mental health conditions affect their work sometimes,rarely and frequently.\n",
    "Mental health conditions sometimes become an interfere while working about 45%."
   ]
  },
  {
   "cell_type": "code",
   "execution_count": 32,
   "id": "9e583103",
   "metadata": {},
   "outputs": [
    {
     "data": {
      "text/plain": [
       "<AxesSubplot:xlabel='work_interfere', ylabel='count'>"
      ]
     },
     "execution_count": 32,
     "metadata": {},
     "output_type": "execute_result"
    },
    {
     "data": {
      "image/png": "[encoded data removed]",
      "text/plain": [
       "<Figure size 432x288 with 1 Axes>"
      ]
     },
     "metadata": {
      "needs_background": "light"
     },
     "output_type": "display_data"
    }
   ],
   "source": [
    "sns.countplot(copy1[\"work_interfere\"],hue= copy1['treatment'])"
   ]
  },
  {
   "cell_type": "markdown",
   "id": "0be131d7",
   "metadata": {},
   "source": [
    "\n",
    "The plots prove that almost 80% want to get treatment. But it's surprising to know even mental health never has interfered at work, there is a little group that still want to get treatment before it become a job stress. It can be triggered by the requirements of the job do not match the capabilities, resources or needs of the worker\n",
    "If you are running a tech organization , you should consider providing resources for employees seeking treatment and it will help in boosting employee experience and will definitely increase their productivity."
   ]
  },
  {
   "cell_type": "markdown",
   "id": "17d5ac76",
   "metadata": {},
   "source": [
    "# Family history of mental illness"
   ]
  },
  {
   "cell_type": "code",
   "execution_count": 33,
   "id": "e231ef40",
   "metadata": {},
   "outputs": [
    {
     "data": {
      "text/plain": [
       "<AxesSubplot:xlabel='family_history', ylabel='count'>"
      ]
     },
     "execution_count": 33,
     "metadata": {},
     "output_type": "execute_result"
    },
    {
     "data": {
      "image/png": "[encoded data removed]",
      "text/plain": [
       "<Figure size 432x288 with 1 Axes>"
      ]
     },
     "metadata": {
      "needs_background": "light"
     },
     "output_type": "display_data"
    }
   ],
   "source": [
    "sns.countplot(data=copy1,x='family_history')"
   ]
  },
  {
   "cell_type": "markdown",
   "id": "9e625009",
   "metadata": {},
   "source": [
    "Their are less than 40 % people who have family history of mental health problem.\n"
   ]
  },
  {
   "cell_type": "code",
   "execution_count": 34,
   "id": "73ba2fbf",
   "metadata": {},
   "outputs": [
    {
     "data": {
      "text/plain": [
       "<AxesSubplot:xlabel='family_history', ylabel='count'>"
      ]
     },
     "execution_count": 34,
     "metadata": {},
     "output_type": "execute_result"
    },
    {
     "data": {
      "image/png": "[encoded data removed]",
      "text/plain": [
       "<Figure size 432x288 with 1 Axes>"
      ]
     },
     "metadata": {
      "needs_background": "light"
     },
     "output_type": "display_data"
    }
   ],
   "source": [
    "sns.countplot(data=copy1,x='family_history',hue='treatment')"
   ]
  },
  {
   "cell_type": "markdown",
   "id": "d7f654b0",
   "metadata": {},
   "source": [
    "It clearly shows people who have mental health problems in their Family are more bound to take treatment in comparison of the \n",
    "people who dont have mental health problems in their family.\n",
    "\n",
    "This will be an important feature."
   ]
  },
  {
   "cell_type": "markdown",
   "id": "92954eaa",
   "metadata": {},
   "source": [
    "#  People doing remote work(more than 50% of their time)"
   ]
  },
  {
   "cell_type": "code",
   "execution_count": 35,
   "id": "2133ab50",
   "metadata": {},
   "outputs": [
    {
     "data": {
      "text/plain": [
       "<AxesSubplot:xlabel='remote_work', ylabel='count'>"
      ]
     },
     "execution_count": 35,
     "metadata": {},
     "output_type": "execute_result"
    },
    {
     "data": {
      "image/png": "[encoded data removed]",
      "text/plain": [
       "<Figure size 432x288 with 1 Axes>"
      ]
     },
     "metadata": {
      "needs_background": "light"
     },
     "output_type": "display_data"
    }
   ],
   "source": [
    "sns.countplot(data=copy1,x='remote_work')"
   ]
  },
  {
   "cell_type": "code",
   "execution_count": 36,
   "id": "66fba9bc",
   "metadata": {},
   "outputs": [
    {
     "data": {
      "text/plain": [
       "<AxesSubplot:xlabel='remote_work', ylabel='count'>"
      ]
     },
     "execution_count": 36,
     "metadata": {},
     "output_type": "execute_result"
    },
    {
     "data": {
      "image/png": "[encoded data removed]",
      "text/plain": [
       "<Figure size 432x288 with 1 Axes>"
      ]
     },
     "metadata": {
      "needs_background": "light"
     },
     "output_type": "display_data"
    }
   ],
   "source": [
    "sns.countplot(data=copy1,x='remote_work',hue='treatment')"
   ]
  },
  {
   "cell_type": "markdown",
   "id": "1ad26a8f",
   "metadata": {},
   "source": [
    "Doesn't matter remote work or not, almost 50% of people in both categories seek treatment.\n",
    "People in remote work are sligtly more in number who seek treatment.\n",
    "It might be due to lack of social interaction in remote mode."
   ]
  },
  {
   "cell_type": "markdown",
   "id": "3d305e7e",
   "metadata": {},
   "source": [
    "# does employer provide mental health benefits "
   ]
  },
  {
   "cell_type": "code",
   "execution_count": 37,
   "id": "60c833a7",
   "metadata": {},
   "outputs": [
    {
     "data": {
      "text/plain": [
       "<AxesSubplot:xlabel='benefits', ylabel='count'>"
      ]
     },
     "execution_count": 37,
     "metadata": {},
     "output_type": "execute_result"
    },
    {
     "data": {
      "image/png": "[encoded data removed]",
      "text/plain": [
       "<Figure size 432x288 with 1 Axes>"
      ]
     },
     "metadata": {
      "needs_background": "light"
     },
     "output_type": "display_data"
    }
   ],
   "source": [
    "sns.countplot(data=copy1,x='benefits')"
   ]
  },
  {
   "cell_type": "code",
   "execution_count": 38,
   "id": "fe53d264",
   "metadata": {},
   "outputs": [
    {
     "data": {
      "text/plain": [
       "<AxesSubplot:xlabel='benefits', ylabel='count'>"
      ]
     },
     "execution_count": 38,
     "metadata": {},
     "output_type": "execute_result"
    },
    {
     "data": {
      "image/png": "[encoded data removed]",
      "text/plain": [
       "<Figure size 432x288 with 1 Axes>"
      ]
     },
     "metadata": {
      "needs_background": "light"
     },
     "output_type": "display_data"
    }
   ],
   "source": [
    "sns.countplot(data=copy1,x='benefits',hue='treatment')"
   ]
  },
  {
   "cell_type": "code",
   "execution_count": 39,
   "id": "3a93be7a",
   "metadata": {},
   "outputs": [
    {
     "data": {
      "text/plain": [
       "Yes           0.374766\n",
       "Don't know    0.321495\n",
       "No            0.303738\n",
       "Name: benefits, dtype: float64"
      ]
     },
     "execution_count": 39,
     "metadata": {},
     "output_type": "execute_result"
    }
   ],
   "source": [
    "copy1['benefits'].value_counts(normalize=True)"
   ]
  },
  {
   "cell_type": "markdown",
   "id": "7401e4f5",
   "metadata": {},
   "source": [
    "We see that around 38% of the respondents said that their employer provided them mental health benefits, whereas a significant number ( 32% ) of them didn't even know whether they were provided this benefit.\n",
    "Coming to the second graph,we see that for the people who YES said to mental health benefits, around 63% of them said that they were seeking medical help. So we can see the employer resources are utilized to a larger extent.\n",
    "Even if you think about the cost , you should definitely go for it because it is efficiently utilized by the employees.\n",
    "Surprisingly, the people who said NO for the mental health benefits provided by the company, close to 45% of them who want to seek mental health treatment."
   ]
  },
  {
   "cell_type": "markdown",
   "id": "e1eeb06e",
   "metadata": {},
   "source": [
    "# Mental healthcare options provided by Employer"
   ]
  },
  {
   "cell_type": "code",
   "execution_count": 40,
   "id": "8aee78ef",
   "metadata": {},
   "outputs": [
    {
     "data": {
      "text/plain": [
       "<AxesSubplot:xlabel='care_options', ylabel='count'>"
      ]
     },
     "execution_count": 40,
     "metadata": {},
     "output_type": "execute_result"
    },
    {
     "data": {
      "image/png": "[encoded data removed]",
      "text/plain": [
       "<Figure size 432x288 with 1 Axes>"
      ]
     },
     "metadata": {
      "needs_background": "light"
     },
     "output_type": "display_data"
    }
   ],
   "source": [
    "sns.countplot(data=copy1,x='care_options')"
   ]
  },
  {
   "cell_type": "code",
   "execution_count": 41,
   "id": "1b34a0cd",
   "metadata": {},
   "outputs": [
    {
     "data": {
      "text/plain": [
       "<AxesSubplot:xlabel='care_options', ylabel='count'>"
      ]
     },
     "execution_count": 41,
     "metadata": {},
     "output_type": "execute_result"
    },
    {
     "data": {
      "image/png": "[encoded data removed]",
      "text/plain": [
       "<Figure size 432x288 with 1 Axes>"
      ]
     },
     "metadata": {
      "needs_background": "light"
     },
     "output_type": "display_data"
    }
   ],
   "source": [
    "sns.countplot(data=copy1,x='care_options',hue='treatment')"
   ]
  },
  {
   "cell_type": "code",
   "execution_count": 42,
   "id": "b2fbc0fc",
   "metadata": {},
   "outputs": [
    {
     "data": {
      "text/plain": [
       "No          0.395327\n",
       "Yes         0.352336\n",
       "Not sure    0.252336\n",
       "Name: care_options, dtype: float64"
      ]
     },
     "execution_count": 42,
     "metadata": {},
     "output_type": "execute_result"
    }
   ],
   "source": [
    "copy1[\"care_options\"].value_counts(normalize=True)"
   ]
  },
  {
   "cell_type": "markdown",
   "id": "ade747a5",
   "metadata": {},
   "source": [
    "40% of employees are not provided any care options and 25% are not sure whether care options exist in company.\n",
    "We can see 60% of employees whos organization dont have care options are seeking treatment. These organizations needs to address this issue. People who have care options are actually seeking treatment, this can validate our claim to have care options."
   ]
  },
  {
   "cell_type": "markdown",
   "id": "7f2c8ccd",
   "metadata": {},
   "source": [
    "# Number of Employees in the Company"
   ]
  },
  {
   "cell_type": "code",
   "execution_count": 43,
   "id": "cc45e0df",
   "metadata": {},
   "outputs": [
    {
     "data": {
      "text/plain": [
       "<AxesSubplot:xlabel='no_employees', ylabel='count'>"
      ]
     },
     "execution_count": 43,
     "metadata": {},
     "output_type": "execute_result"
    },
    {
     "data": {
      "image/png": "[encoded data removed]",
      "text/plain": [
       "<Figure size 432x288 with 1 Axes>"
      ]
     },
     "metadata": {
      "needs_background": "light"
     },
     "output_type": "display_data"
    }
   ],
   "source": [
    "sns.countplot(data=copy1,x='no_employees')"
   ]
  },
  {
   "cell_type": "code",
   "execution_count": 44,
   "id": "941e27ea",
   "metadata": {},
   "outputs": [
    {
     "data": {
      "text/plain": [
       "<AxesSubplot:xlabel='no_employees', ylabel='count'>"
      ]
     },
     "execution_count": 44,
     "metadata": {},
     "output_type": "execute_result"
    },
    {
     "data": {
      "image/png": "[encoded data removed]",
      "text/plain": [
       "<Figure size 432x288 with 1 Axes>"
      ]
     },
     "metadata": {
      "needs_background": "light"
     },
     "output_type": "display_data"
    }
   ],
   "source": [
    "sns.countplot(data=copy1,x='no_employees',hue='treatment')"
   ]
  },
  {
   "cell_type": "code",
   "execution_count": 45,
   "id": "22b6744b",
   "metadata": {},
   "outputs": [
    {
     "data": {
      "text/plain": [
       "<AxesSubplot:xlabel='no_employees', ylabel='count'>"
      ]
     },
     "execution_count": 45,
     "metadata": {},
     "output_type": "execute_result"
    },
    {
     "data": {
      "image/png": "[encoded data removed]",
      "text/plain": [
       "<Figure size 432x288 with 1 Axes>"
      ]
     },
     "metadata": {
      "needs_background": "light"
     },
     "output_type": "display_data"
    }
   ],
   "source": [
    "sns.countplot(data=copy1,x='no_employees',hue='benefits')"
   ]
  },
  {
   "cell_type": "markdown",
   "id": "3c13ce50",
   "metadata": {},
   "source": [
    "Smaller companies are providing less benefits than the larger one.\n",
    "Size of the is not affecting whether people are seeking mental help or not."
   ]
  },
  {
   "cell_type": "markdown",
   "id": "8ea510fd",
   "metadata": {},
   "source": [
    "# Does Mental Health comes in your employee wellness program "
   ]
  },
  {
   "cell_type": "code",
   "execution_count": 46,
   "id": "255eeb5a",
   "metadata": {},
   "outputs": [
    {
     "data": {
      "text/plain": [
       "<AxesSubplot:xlabel='wellness_program', ylabel='count'>"
      ]
     },
     "execution_count": 46,
     "metadata": {},
     "output_type": "execute_result"
    },
    {
     "data": {
      "image/png": "[encoded data removed]",
      "text/plain": [
       "<Figure size 432x288 with 1 Axes>"
      ]
     },
     "metadata": {
      "needs_background": "light"
     },
     "output_type": "display_data"
    }
   ],
   "source": [
    "sns.countplot(data=copy1,x='wellness_program')"
   ]
  },
  {
   "cell_type": "code",
   "execution_count": 47,
   "id": "5d0103e8",
   "metadata": {},
   "outputs": [
    {
     "data": {
      "text/plain": [
       "<AxesSubplot:xlabel='wellness_program', ylabel='count'>"
      ]
     },
     "execution_count": 47,
     "metadata": {},
     "output_type": "execute_result"
    },
    {
     "data": {
      "image/png": "[encoded data removed]",
      "text/plain": [
       "<Figure size 432x288 with 1 Axes>"
      ]
     },
     "metadata": {
      "needs_background": "light"
     },
     "output_type": "display_data"
    }
   ],
   "source": [
    "sns.countplot(data=copy1,x=\"wellness_program\",hue='treatment')"
   ]
  },
  {
   "cell_type": "code",
   "execution_count": 48,
   "id": "e4b01181",
   "metadata": {},
   "outputs": [
    {
     "data": {
      "text/plain": [
       "No            0.671028\n",
       "Yes           0.183178\n",
       "Don't know    0.145794\n",
       "Name: wellness_program, dtype: float64"
      ]
     },
     "execution_count": 48,
     "metadata": {},
     "output_type": "execute_result"
    }
   ],
   "source": [
    "copy1['wellness_program'].value_counts(normalize=True)"
   ]
  },
  {
   "cell_type": "markdown",
   "id": "1ea22ab5",
   "metadata": {},
   "source": [
    "70% employers haven't discussed mental health as a employee wellness program.\n",
    "Around 50% People who don't know about the program are seeking help. This means organizations should explain the mental health benefits provided by the company\n",
    "Companies should include mental health in the employee wellness program.This shouldn't be overlooked"
   ]
  },
  {
   "cell_type": "markdown",
   "id": "0021dd01",
   "metadata": {},
   "source": [
    "# Does employer provide ways to seek help in case of Mental Health"
   ]
  },
  {
   "cell_type": "code",
   "execution_count": 49,
   "id": "a5c18162",
   "metadata": {},
   "outputs": [
    {
     "data": {
      "text/plain": [
       "<AxesSubplot:xlabel='seek_help', ylabel='count'>"
      ]
     },
     "execution_count": 49,
     "metadata": {},
     "output_type": "execute_result"
    },
    {
     "data": {
      "image/png": "[encoded data removed]",
      "text/plain": [
       "<Figure size 432x288 with 1 Axes>"
      ]
     },
     "metadata": {
      "needs_background": "light"
     },
     "output_type": "display_data"
    }
   ],
   "source": [
    "sns.countplot(data=copy1,x=\"seek_help\")"
   ]
  },
  {
   "cell_type": "code",
   "execution_count": 50,
   "id": "3ae85ace",
   "metadata": {},
   "outputs": [
    {
     "data": {
      "text/plain": [
       "<AxesSubplot:xlabel='seek_help', ylabel='count'>"
      ]
     },
     "execution_count": 50,
     "metadata": {},
     "output_type": "execute_result"
    },
    {
     "data": {
      "image/png": "[encoded data removed]",
      "text/plain": [
       "<Figure size 432x288 with 1 Axes>"
      ]
     },
     "metadata": {
      "needs_background": "light"
     },
     "output_type": "display_data"
    }
   ],
   "source": [
    "sns.countplot(data=copy1,x=\"seek_help\",hue='treatment')"
   ]
  },
  {
   "cell_type": "code",
   "execution_count": 51,
   "id": "1fd39dab",
   "metadata": {},
   "outputs": [
    {
     "data": {
      "text/plain": [
       "No            0.515888\n",
       "Don't know    0.279439\n",
       "Yes           0.204673\n",
       "Name: seek_help, dtype: float64"
      ]
     },
     "execution_count": 51,
     "metadata": {},
     "output_type": "execute_result"
    }
   ],
   "source": [
    "copy1['seek_help'].value_counts(normalize=True)"
   ]
  },
  {
   "cell_type": "markdown",
   "id": "0827728a",
   "metadata": {},
   "source": [
    "More Than 51% respondents said they have not been provided ways for seeking in case of meantal health by the employers.\n",
    "It can be clearly seen that the places where they provided help , more percentage of people took treatment."
   ]
  },
  {
   "cell_type": "markdown",
   "id": "55be7777",
   "metadata": {},
   "source": [
    "# Is your Identity be remained anonymous if you use resources"
   ]
  },
  {
   "cell_type": "code",
   "execution_count": 52,
   "id": "58fb6f09",
   "metadata": {},
   "outputs": [
    {
     "data": {
      "text/plain": [
       "<AxesSubplot:xlabel='anonymity', ylabel='count'>"
      ]
     },
     "execution_count": 52,
     "metadata": {},
     "output_type": "execute_result"
    },
    {
     "data": {
      "image/png": "[encoded data removed]",
      "text/plain": [
       "<Figure size 432x288 with 1 Axes>"
      ]
     },
     "metadata": {
      "needs_background": "light"
     },
     "output_type": "display_data"
    }
   ],
   "source": [
    "sns.countplot(data=copy1,x='anonymity')"
   ]
  },
  {
   "cell_type": "code",
   "execution_count": 53,
   "id": "7e33aa1c",
   "metadata": {},
   "outputs": [
    {
     "data": {
      "text/plain": [
       "<AxesSubplot:xlabel='anonymity', ylabel='count'>"
      ]
     },
     "execution_count": 53,
     "metadata": {},
     "output_type": "execute_result"
    },
    {
     "data": {
      "image/png": "[encoded data removed]",
      "text/plain": [
       "<Figure size 432x288 with 1 Axes>"
      ]
     },
     "metadata": {
      "needs_background": "light"
     },
     "output_type": "display_data"
    }
   ],
   "source": [
    "sns.countplot(data=copy1,x='anonymity',hue='treatment')"
   ]
  },
  {
   "cell_type": "code",
   "execution_count": 54,
   "id": "3613a67b",
   "metadata": {},
   "outputs": [
    {
     "data": {
      "text/plain": [
       "Don't know    0.643925\n",
       "Yes           0.301869\n",
       "No            0.054206\n",
       "Name: anonymity, dtype: float64"
      ]
     },
     "execution_count": 54,
     "metadata": {},
     "output_type": "execute_result"
    }
   ],
   "source": [
    "copy1['anonymity'].value_counts(normalize=True)"
   ]
  },
  {
   "cell_type": "markdown",
   "id": "0617dff7",
   "metadata": {},
   "source": [
    "Almost 65% of the respondents have no idea about it.\n",
    "Companies should create a safe environment for people to feel safe to share their problems.\n",
    "We can establish the fact that people who think their anonymity is protected are more willing to seek treatment."
   ]
  },
  {
   "cell_type": "markdown",
   "id": "8b77d502",
   "metadata": {},
   "source": [
    "# How easy it for you take Medical Leave for a Mental Health Condition"
   ]
  },
  {
   "cell_type": "code",
   "execution_count": 55,
   "id": "93f7a764",
   "metadata": {},
   "outputs": [
    {
     "data": {
      "image/png": "[encoded data removed]",
      "text/plain": [
       "<Figure size 432x288 with 1 Axes>"
      ]
     },
     "metadata": {
      "needs_background": "light"
     },
     "output_type": "display_data"
    }
   ],
   "source": [
    "sns.countplot(data=copy1,x='leave')\n",
    "plt.xticks(rotation=45)\n",
    "plt.show()"
   ]
  },
  {
   "cell_type": "code",
   "execution_count": 56,
   "id": "7e2ebd92",
   "metadata": {},
   "outputs": [
    {
     "data": {
      "image/png": "[encoded data removed]",
      "text/plain": [
       "<Figure size 432x288 with 1 Axes>"
      ]
     },
     "metadata": {
      "needs_background": "light"
     },
     "output_type": "display_data"
    }
   ],
   "source": [
    "sns.countplot(data=copy1,x='leave',hue='treatment')\n",
    "plt.xticks(rotation=45)\n",
    "plt.show()"
   ]
  },
  {
   "cell_type": "code",
   "execution_count": 57,
   "id": "fe61c1ff",
   "metadata": {},
   "outputs": [
    {
     "data": {
      "text/plain": [
       "Don't know            0.437383\n",
       "Somewhat easy         0.214019\n",
       "Very easy             0.168224\n",
       "Somewhat difficult    0.100000\n",
       "Very difficult        0.080374\n",
       "Name: leave, dtype: float64"
      ]
     },
     "execution_count": 57,
     "metadata": {},
     "output_type": "execute_result"
    }
   ],
   "source": [
    "copy1['leave'].value_counts(normalize=True)"
   ]
  },
  {
   "cell_type": "markdown",
   "id": "50157cd8",
   "metadata": {},
   "source": [
    "1. 45% have no idea about it.\n",
    "2. Places where Leave is Difficult to get they are more into Treatment.\n",
    "3. Important feature for the Model.\n"
   ]
  },
  {
   "cell_type": "markdown",
   "id": "0ecd545d",
   "metadata": {},
   "source": [
    "   # Discussing Mental Health with employer will have -ve Impact"
   ]
  },
  {
   "cell_type": "code",
   "execution_count": 58,
   "id": "ab9d66f7",
   "metadata": {},
   "outputs": [
    {
     "data": {
      "text/plain": [
       "<AxesSubplot:xlabel='mental_health_consequence', ylabel='count'>"
      ]
     },
     "execution_count": 58,
     "metadata": {},
     "output_type": "execute_result"
    },
    {
     "data": {
      "image/png": "[encoded data removed]",
      "text/plain": [
       "<Figure size 432x288 with 1 Axes>"
      ]
     },
     "metadata": {
      "needs_background": "light"
     },
     "output_type": "display_data"
    }
   ],
   "source": [
    "sns.countplot(data=copy1,x='mental_health_consequence')"
   ]
  },
  {
   "cell_type": "code",
   "execution_count": 59,
   "id": "4d04e18a",
   "metadata": {},
   "outputs": [
    {
     "data": {
      "text/plain": [
       "<AxesSubplot:xlabel='mental_health_consequence', ylabel='count'>"
      ]
     },
     "execution_count": 59,
     "metadata": {},
     "output_type": "execute_result"
    },
    {
     "data": {
      "image/png": "[encoded data removed]",
      "text/plain": [
       "<Figure size 432x288 with 1 Axes>"
      ]
     },
     "metadata": {
      "needs_background": "light"
     },
     "output_type": "display_data"
    }
   ],
   "source": [
    "sns.countplot(data=copy1,x='mental_health_consequence',hue='treatment')"
   ]
  },
  {
   "cell_type": "markdown",
   "id": "71caf354",
   "metadata": {},
   "source": [
    "Around 70% of people either thinks discussing mental health problem will have negative consequence or not sure whether it will have a impact.\n",
    "And out of people who think it will have a negative impact, most people seek treatment."
   ]
  },
  {
   "cell_type": "markdown",
   "id": "fc5827e8",
   "metadata": {},
   "source": [
    "# Discussing Mental Health with the coworker"
   ]
  },
  {
   "cell_type": "code",
   "execution_count": 60,
   "id": "accc9986",
   "metadata": {},
   "outputs": [
    {
     "data": {
      "text/plain": [
       "<AxesSubplot:xlabel='coworkers', ylabel='count'>"
      ]
     },
     "execution_count": 60,
     "metadata": {},
     "output_type": "execute_result"
    },
    {
     "data": {
      "image/png": "[encoded data removed]",
      "text/plain": [
       "<Figure size 432x288 with 1 Axes>"
      ]
     },
     "metadata": {
      "needs_background": "light"
     },
     "output_type": "display_data"
    }
   ],
   "source": [
    "sns.countplot(data=copy1,x='coworkers')"
   ]
  },
  {
   "cell_type": "code",
   "execution_count": 61,
   "id": "8407610e",
   "metadata": {},
   "outputs": [
    {
     "data": {
      "text/plain": [
       "<AxesSubplot:xlabel='coworkers', ylabel='count'>"
      ]
     },
     "execution_count": 61,
     "metadata": {},
     "output_type": "execute_result"
    },
    {
     "data": {
      "image/png": "[encoded data removed]",
      "text/plain": [
       "<Figure size 432x288 with 1 Axes>"
      ]
     },
     "metadata": {
      "needs_background": "light"
     },
     "output_type": "display_data"
    }
   ],
   "source": [
    "sns.countplot(data=copy1,x='coworkers',hue='treatment')"
   ]
  },
  {
   "cell_type": "markdown",
   "id": "494147e2",
   "metadata": {},
   "source": [
    " Good sign that most people have atleast some people(coworkers) to talk to about the mental health issues."
   ]
  },
  {
   "cell_type": "markdown",
   "id": "9dbbc180",
   "metadata": {},
   "source": [
    "# Is Mental Health Taken Seriously ?"
   ]
  },
  {
   "cell_type": "code",
   "execution_count": 62,
   "id": "bb20b423",
   "metadata": {},
   "outputs": [
    {
     "data": {
      "text/plain": [
       "<AxesSubplot:xlabel='mental_vs_physical', ylabel='count'>"
      ]
     },
     "execution_count": 62,
     "metadata": {},
     "output_type": "execute_result"
    },
    {
     "data": {
      "image/png": "[encoded data removed]",
      "text/plain": [
       "<Figure size 432x288 with 1 Axes>"
      ]
     },
     "metadata": {
      "needs_background": "light"
     },
     "output_type": "display_data"
    }
   ],
   "source": [
    "sns.countplot(data=copy1,x='mental_vs_physical')"
   ]
  },
  {
   "cell_type": "code",
   "execution_count": 63,
   "id": "b1b53af3",
   "metadata": {},
   "outputs": [
    {
     "data": {
      "text/plain": [
       "<AxesSubplot:xlabel='mental_vs_physical', ylabel='count'>"
      ]
     },
     "execution_count": 63,
     "metadata": {},
     "output_type": "execute_result"
    },
    {
     "data": {
      "image/png": "[encoded data removed]",
      "text/plain": [
       "<Figure size 432x288 with 1 Axes>"
      ]
     },
     "metadata": {
      "needs_background": "light"
     },
     "output_type": "display_data"
    }
   ],
   "source": [
    "sns.countplot(data=copy1,x='mental_vs_physical',hue='treatment')"
   ]
  },
  {
   "cell_type": "markdown",
   "id": "ef077500",
   "metadata": {},
   "source": [
    "Places where Mental health is not treated as same as Physical Health , people are more inclined for Treatment. "
   ]
  },
  {
   "cell_type": "markdown",
   "id": "522ae335",
   "metadata": {},
   "source": [
    "# Does Colleagues Have negative consequences about Mental Health"
   ]
  },
  {
   "cell_type": "code",
   "execution_count": 64,
   "id": "b5a16283",
   "metadata": {},
   "outputs": [
    {
     "data": {
      "text/plain": [
       "<AxesSubplot:xlabel='obs_consequence', ylabel='count'>"
      ]
     },
     "execution_count": 64,
     "metadata": {},
     "output_type": "execute_result"
    },
    {
     "data": {
      "image/png": "[encoded data removed]",
      "text/plain": [
       "<Figure size 432x288 with 1 Axes>"
      ]
     },
     "metadata": {
      "needs_background": "light"
     },
     "output_type": "display_data"
    }
   ],
   "source": [
    "sns.countplot(data=copy1,x='obs_consequence')"
   ]
  },
  {
   "cell_type": "code",
   "execution_count": 65,
   "id": "e6c87d08",
   "metadata": {},
   "outputs": [
    {
     "data": {
      "text/plain": [
       "<AxesSubplot:xlabel='obs_consequence', ylabel='count'>"
      ]
     },
     "execution_count": 65,
     "metadata": {},
     "output_type": "execute_result"
    },
    {
     "data": {
      "image/png": "[encoded data removed]",
      "text/plain": [
       "<Figure size 432x288 with 1 Axes>"
      ]
     },
     "metadata": {
      "needs_background": "light"
     },
     "output_type": "display_data"
    }
   ],
   "source": [
    "sns.countplot(data=copy1,x='obs_consequence',hue='treatment')"
   ]
  },
  {
   "cell_type": "markdown",
   "id": "c4dbcdef",
   "metadata": {},
   "source": [
    "Most of the employers have not felt anything like that"
   ]
  },
  {
   "cell_type": "markdown",
   "id": "14c957bd",
   "metadata": {},
   "source": [
    "# Data Preprocessing"
   ]
  },
  {
   "cell_type": "code",
   "execution_count": 66,
   "id": "d701dcab",
   "metadata": {},
   "outputs": [],
   "source": [
    "# We have almost 2 % null values in the self_employed column, we will impute with mode only\n",
    "\n",
    "se_mode=train_data['self_employed'].mode().values[0]\n",
    "train_data['self_employed'].fillna(se_mode,inplace=True)\n"
   ]
  },
  {
   "cell_type": "code",
   "execution_count": 67,
   "id": "92d02b3d",
   "metadata": {},
   "outputs": [
    {
     "data": {
      "text/plain": [
       "No     217\n",
       "Yes      4\n",
       "Name: treatment, dtype: int64"
      ]
     },
     "execution_count": 67,
     "metadata": {},
     "output_type": "execute_result"
    }
   ],
   "source": [
    "# # Work_interfere contains almost 20% null values which is significant as we have less data.\n",
    "# Let us once see the null values to find any pattern\n",
    "train_data[train_data['work_interfere'].isna()]['treatment'].value_counts()"
   ]
  },
  {
   "cell_type": "markdown",
   "id": "b73865c4",
   "metadata": {},
   "source": [
    "Intersting, almost 99% of the people who didn't answer the question 'Whether mental health interferes with work' don't seek help'.\n",
    "If we think null values as a category , it is more similar to category NEVER of all categories of column work_interfere. So we will use this to replace null values."
   ]
  },
  {
   "cell_type": "code",
   "execution_count": 68,
   "id": "4ae81c70",
   "metadata": {},
   "outputs": [],
   "source": [
    "train_data['work_interfere'].fillna('Never',inplace = True)"
   ]
  },
  {
   "cell_type": "code",
   "execution_count": 69,
   "id": "7c6baba8",
   "metadata": {},
   "outputs": [
    {
     "data": {
      "text/plain": [
       "Age                          0\n",
       "Gender                       0\n",
       "self_employed                0\n",
       "family_history               0\n",
       "treatment                    0\n",
       "work_interfere               0\n",
       "no_employees                 0\n",
       "remote_work                  0\n",
       "tech_company                 0\n",
       "benefits                     0\n",
       "care_options                 0\n",
       "wellness_program             0\n",
       "seek_help                    0\n",
       "anonymity                    0\n",
       "leave                        0\n",
       "mental_health_consequence    0\n",
       "phys_health_consequence      0\n",
       "coworkers                    0\n",
       "supervisor                   0\n",
       "mental_health_interview      0\n",
       "phys_health_interview        0\n",
       "mental_vs_physical           0\n",
       "obs_consequence              0\n",
       "dtype: int64"
      ]
     },
     "execution_count": 69,
     "metadata": {},
     "output_type": "execute_result"
    }
   ],
   "source": [
    "# Verifying the Null Values in all the columns\n",
    "\n",
    "train_data.isnull().sum()"
   ]
  },
  {
   "cell_type": "markdown",
   "id": "d5712bbd",
   "metadata": {},
   "source": [
    "Their is no Null Values in Any Columns "
   ]
  },
  {
   "cell_type": "markdown",
   "id": "5291bcb8",
   "metadata": {},
   "source": [
    "# Dependent And Independent Variables"
   ]
  },
  {
   "cell_type": "code",
   "execution_count": 70,
   "id": "6b9c091d",
   "metadata": {},
   "outputs": [],
   "source": [
    "x_train=train_data.drop('treatment',axis=1)\n",
    "y_train=train_data['treatment'].copy()"
   ]
  },
  {
   "cell_type": "code",
   "execution_count": 71,
   "id": "0f643de9",
   "metadata": {},
   "outputs": [
    {
     "data": {
      "text/plain": [
       "Index(['Age', 'Gender', 'self_employed', 'family_history', 'treatment',\n",
       "       'work_interfere', 'no_employees', 'remote_work', 'tech_company',\n",
       "       'benefits', 'care_options', 'wellness_program', 'seek_help',\n",
       "       'anonymity', 'leave', 'mental_health_consequence',\n",
       "       'phys_health_consequence', 'coworkers', 'supervisor',\n",
       "       'mental_health_interview', 'phys_health_interview',\n",
       "       'mental_vs_physical', 'obs_consequence'],\n",
       "      dtype='object')"
      ]
     },
     "execution_count": 71,
     "metadata": {},
     "output_type": "execute_result"
    }
   ],
   "source": [
    "train_data.columns"
   ]
  },
  {
   "cell_type": "code",
   "execution_count": 72,
   "id": "b0728705",
   "metadata": {},
   "outputs": [],
   "source": [
    "# We will Label columns for the features having 2 classes(Label Encoding)\n",
    "# We will label columns for the features having more than 2 classes(Ordinal Encoding)"
   ]
  },
  {
   "cell_type": "markdown",
   "id": "c86664b3",
   "metadata": {},
   "source": [
    "# Ordinal Encoding"
   ]
  },
  {
   "cell_type": "code",
   "execution_count": 73,
   "id": "28a46105",
   "metadata": {},
   "outputs": [],
   "source": [
    "# Ordinal Encoding Preparation\n",
    "\n",
    "gender_cols = ['Female','Male','Other']\n",
    "self_employed_cols = ['No','Yes']\n",
    "family_history_cols = ['No','Yes']\n",
    "work_interfere_cols = ['Never','Rarely','Sometimes','Often']\n",
    "no_employees_cols = ['1-5','6-25','26-100','100-500','500-1000','More than 1000']\n",
    "remote_work_cols = ['No','Yes']\n",
    "tech_company_cols = ['No','Yes']\n",
    "benefits_cols = ['No','Don\\'t know','Yes'] \n",
    "care_options_cols = ['No','Not sure','Yes']\n",
    "wellness_program_cols  =['No','Don\\'t know','Yes']\n",
    "seek_help_cols = ['No','Don\\'t know','Yes']\n",
    "anonymity_cols = ['No','Don\\'t know','Yes']\n",
    "leave_cols = [ 'Very easy', 'Somewhat easy',\"Don't know\" ,'Somewhat difficult','Very difficult']\n",
    "mental_health_consequence_cols = ['No','Maybe','Yes']\n",
    "phys_health_consequence_cols = ['No','Maybe','Yes']\n",
    "coworkers_col = ['No','Some of them','Yes']\n",
    "supervisor_cols = ['No','Some of them','Yes']\n",
    "mental_health_interview_cols = ['No','Maybe','Yes']\n",
    "phys_health_interview_cols = ['No','Maybe','Yes']\n",
    "mental_vs_physical_cols = [\"Don't know\",'No','Yes']\n",
    "obs_consequence_cols = ['No','Yes']"
   ]
  },
  {
   "cell_type": "code",
   "execution_count": 74,
   "id": "443c6894",
   "metadata": {},
   "outputs": [],
   "source": [
    "columns_for_encoder = [gender_cols,self_employed_cols,family_history_cols,work_interfere_cols,no_employees_cols,remote_work_cols,\n",
    "                            tech_company_cols,benefits_cols,care_options_cols,wellness_program_cols,seek_help_cols,anonymity_cols,leave_cols,\n",
    "                            mental_health_consequence_cols,phys_health_consequence_cols,coworkers_col,supervisor_cols,mental_health_interview_cols,\n",
    "                            phys_health_interview_cols,mental_vs_physical_cols,obs_consequence_cols]"
   ]
  },
  {
   "cell_type": "code",
   "execution_count": 75,
   "id": "d8cf9eb0",
   "metadata": {},
   "outputs": [],
   "source": [
    "# Ordinal Encoding\n",
    "\n",
    "features = list(x_train.columns)\n",
    "\n",
    "from sklearn.preprocessing import OrdinalEncoder\n",
    "\n",
    "ord_encoder = OrdinalEncoder(categories=list(columns_for_encoder))\n",
    "x_train[features[1:]] = ord_encoder.fit_transform(x_train.iloc[:,1:])"
   ]
  },
  {
   "cell_type": "code",
   "execution_count": 76,
   "id": "d4000247",
   "metadata": {},
   "outputs": [
    {
     "data": {
      "text/html": [
       "<div>\n",
       "<style scoped>\n",
       "    .dataframe tbody tr th:only-of-type {\n",
       "        vertical-align: middle;\n",
       "    }\n",
       "\n",
       "    .dataframe tbody tr th {\n",
       "        vertical-align: top;\n",
       "    }\n",
       "\n",
       "    .dataframe thead th {\n",
       "        text-align: right;\n",
       "    }\n",
       "</style>\n",
       "<table border=\"1\" class=\"dataframe\">\n",
       "  <thead>\n",
       "    <tr style=\"text-align: right;\">\n",
       "      <th></th>\n",
       "      <th>Age</th>\n",
       "      <th>Gender</th>\n",
       "      <th>self_employed</th>\n",
       "      <th>family_history</th>\n",
       "      <th>work_interfere</th>\n",
       "      <th>no_employees</th>\n",
       "      <th>remote_work</th>\n",
       "      <th>tech_company</th>\n",
       "      <th>benefits</th>\n",
       "      <th>care_options</th>\n",
       "      <th>wellness_program</th>\n",
       "      <th>seek_help</th>\n",
       "      <th>anonymity</th>\n",
       "      <th>leave</th>\n",
       "      <th>mental_health_consequence</th>\n",
       "      <th>phys_health_consequence</th>\n",
       "      <th>coworkers</th>\n",
       "      <th>supervisor</th>\n",
       "      <th>mental_health_interview</th>\n",
       "      <th>phys_health_interview</th>\n",
       "      <th>mental_vs_physical</th>\n",
       "      <th>obs_consequence</th>\n",
       "    </tr>\n",
       "  </thead>\n",
       "  <tbody>\n",
       "    <tr>\n",
       "      <th>987</th>\n",
       "      <td>28</td>\n",
       "      <td>1.0</td>\n",
       "      <td>0.0</td>\n",
       "      <td>0.0</td>\n",
       "      <td>3.0</td>\n",
       "      <td>1.0</td>\n",
       "      <td>0.0</td>\n",
       "      <td>1.0</td>\n",
       "      <td>0.0</td>\n",
       "      <td>0.0</td>\n",
       "      <td>0.0</td>\n",
       "      <td>0.0</td>\n",
       "      <td>0.0</td>\n",
       "      <td>3.0</td>\n",
       "      <td>2.0</td>\n",
       "      <td>0.0</td>\n",
       "      <td>0.0</td>\n",
       "      <td>0.0</td>\n",
       "      <td>0.0</td>\n",
       "      <td>2.0</td>\n",
       "      <td>2.0</td>\n",
       "      <td>0.0</td>\n",
       "    </tr>\n",
       "    <tr>\n",
       "      <th>584</th>\n",
       "      <td>27</td>\n",
       "      <td>1.0</td>\n",
       "      <td>0.0</td>\n",
       "      <td>0.0</td>\n",
       "      <td>2.0</td>\n",
       "      <td>0.0</td>\n",
       "      <td>1.0</td>\n",
       "      <td>1.0</td>\n",
       "      <td>0.0</td>\n",
       "      <td>0.0</td>\n",
       "      <td>0.0</td>\n",
       "      <td>0.0</td>\n",
       "      <td>2.0</td>\n",
       "      <td>2.0</td>\n",
       "      <td>2.0</td>\n",
       "      <td>0.0</td>\n",
       "      <td>1.0</td>\n",
       "      <td>2.0</td>\n",
       "      <td>0.0</td>\n",
       "      <td>0.0</td>\n",
       "      <td>1.0</td>\n",
       "      <td>0.0</td>\n",
       "    </tr>\n",
       "    <tr>\n",
       "      <th>367</th>\n",
       "      <td>36</td>\n",
       "      <td>1.0</td>\n",
       "      <td>0.0</td>\n",
       "      <td>1.0</td>\n",
       "      <td>3.0</td>\n",
       "      <td>3.0</td>\n",
       "      <td>0.0</td>\n",
       "      <td>1.0</td>\n",
       "      <td>0.0</td>\n",
       "      <td>2.0</td>\n",
       "      <td>0.0</td>\n",
       "      <td>0.0</td>\n",
       "      <td>2.0</td>\n",
       "      <td>0.0</td>\n",
       "      <td>0.0</td>\n",
       "      <td>0.0</td>\n",
       "      <td>1.0</td>\n",
       "      <td>1.0</td>\n",
       "      <td>0.0</td>\n",
       "      <td>0.0</td>\n",
       "      <td>0.0</td>\n",
       "      <td>0.0</td>\n",
       "    </tr>\n",
       "    <tr>\n",
       "      <th>740</th>\n",
       "      <td>37</td>\n",
       "      <td>1.0</td>\n",
       "      <td>0.0</td>\n",
       "      <td>1.0</td>\n",
       "      <td>2.0</td>\n",
       "      <td>2.0</td>\n",
       "      <td>0.0</td>\n",
       "      <td>1.0</td>\n",
       "      <td>0.0</td>\n",
       "      <td>2.0</td>\n",
       "      <td>0.0</td>\n",
       "      <td>0.0</td>\n",
       "      <td>2.0</td>\n",
       "      <td>0.0</td>\n",
       "      <td>0.0</td>\n",
       "      <td>0.0</td>\n",
       "      <td>1.0</td>\n",
       "      <td>2.0</td>\n",
       "      <td>0.0</td>\n",
       "      <td>1.0</td>\n",
       "      <td>2.0</td>\n",
       "      <td>1.0</td>\n",
       "    </tr>\n",
       "    <tr>\n",
       "      <th>922</th>\n",
       "      <td>28</td>\n",
       "      <td>1.0</td>\n",
       "      <td>0.0</td>\n",
       "      <td>1.0</td>\n",
       "      <td>2.0</td>\n",
       "      <td>2.0</td>\n",
       "      <td>0.0</td>\n",
       "      <td>0.0</td>\n",
       "      <td>2.0</td>\n",
       "      <td>0.0</td>\n",
       "      <td>0.0</td>\n",
       "      <td>0.0</td>\n",
       "      <td>1.0</td>\n",
       "      <td>2.0</td>\n",
       "      <td>1.0</td>\n",
       "      <td>1.0</td>\n",
       "      <td>1.0</td>\n",
       "      <td>1.0</td>\n",
       "      <td>0.0</td>\n",
       "      <td>0.0</td>\n",
       "      <td>2.0</td>\n",
       "      <td>0.0</td>\n",
       "    </tr>\n",
       "  </tbody>\n",
       "</table>\n",
       "</div>"
      ],
      "text/plain": [
       "     Age  Gender  self_employed  family_history  work_interfere  no_employees  \\\n",
       "987   28     1.0            0.0             0.0             3.0           1.0   \n",
       "584   27     1.0            0.0             0.0             2.0           0.0   \n",
       "367   36     1.0            0.0             1.0             3.0           3.0   \n",
       "740   37     1.0            0.0             1.0             2.0           2.0   \n",
       "922   28     1.0            0.0             1.0             2.0           2.0   \n",
       "\n",
       "     remote_work  tech_company  benefits  care_options  wellness_program  \\\n",
       "987          0.0           1.0       0.0           0.0               0.0   \n",
       "584          1.0           1.0       0.0           0.0               0.0   \n",
       "367          0.0           1.0       0.0           2.0               0.0   \n",
       "740          0.0           1.0       0.0           2.0               0.0   \n",
       "922          0.0           0.0       2.0           0.0               0.0   \n",
       "\n",
       "     seek_help  anonymity  leave  mental_health_consequence  \\\n",
       "987        0.0        0.0    3.0                        2.0   \n",
       "584        0.0        2.0    2.0                        2.0   \n",
       "367        0.0        2.0    0.0                        0.0   \n",
       "740        0.0        2.0    0.0                        0.0   \n",
       "922        0.0        1.0    2.0                        1.0   \n",
       "\n",
       "     phys_health_consequence  coworkers  supervisor  mental_health_interview  \\\n",
       "987                      0.0        0.0         0.0                      0.0   \n",
       "584                      0.0        1.0         2.0                      0.0   \n",
       "367                      0.0        1.0         1.0                      0.0   \n",
       "740                      0.0        1.0         2.0                      0.0   \n",
       "922                      1.0        1.0         1.0                      0.0   \n",
       "\n",
       "     phys_health_interview  mental_vs_physical  obs_consequence  \n",
       "987                    2.0                 2.0              0.0  \n",
       "584                    0.0                 1.0              0.0  \n",
       "367                    0.0                 0.0              0.0  \n",
       "740                    1.0                 2.0              1.0  \n",
       "922                    0.0                 2.0              0.0  "
      ]
     },
     "execution_count": 76,
     "metadata": {},
     "output_type": "execute_result"
    }
   ],
   "source": [
    "# Verifying the changes made\n",
    "x_train.head()"
   ]
  },
  {
   "cell_type": "markdown",
   "id": "9adaf420",
   "metadata": {},
   "source": [
    "# Standard Scaling"
   ]
  },
  {
   "cell_type": "code",
   "execution_count": 77,
   "id": "028231cd",
   "metadata": {},
   "outputs": [],
   "source": [
    "from sklearn.preprocessing import StandardScaler\n",
    "std_scaler=StandardScaler()\n",
    "x_train[features]=std_scaler.fit_transform(x_train)"
   ]
  },
  {
   "cell_type": "code",
   "execution_count": 78,
   "id": "16ef43d0",
   "metadata": {},
   "outputs": [
    {
     "data": {
      "text/html": [
       "<div>\n",
       "<style scoped>\n",
       "    .dataframe tbody tr th:only-of-type {\n",
       "        vertical-align: middle;\n",
       "    }\n",
       "\n",
       "    .dataframe tbody tr th {\n",
       "        vertical-align: top;\n",
       "    }\n",
       "\n",
       "    .dataframe thead th {\n",
       "        text-align: right;\n",
       "    }\n",
       "</style>\n",
       "<table border=\"1\" class=\"dataframe\">\n",
       "  <thead>\n",
       "    <tr style=\"text-align: right;\">\n",
       "      <th></th>\n",
       "      <th>Age</th>\n",
       "      <th>Gender</th>\n",
       "      <th>self_employed</th>\n",
       "      <th>family_history</th>\n",
       "      <th>work_interfere</th>\n",
       "      <th>no_employees</th>\n",
       "      <th>remote_work</th>\n",
       "      <th>tech_company</th>\n",
       "      <th>benefits</th>\n",
       "      <th>care_options</th>\n",
       "      <th>wellness_program</th>\n",
       "      <th>seek_help</th>\n",
       "      <th>anonymity</th>\n",
       "      <th>leave</th>\n",
       "      <th>mental_health_consequence</th>\n",
       "      <th>phys_health_consequence</th>\n",
       "      <th>coworkers</th>\n",
       "      <th>supervisor</th>\n",
       "      <th>mental_health_interview</th>\n",
       "      <th>phys_health_interview</th>\n",
       "      <th>mental_vs_physical</th>\n",
       "      <th>obs_consequence</th>\n",
       "    </tr>\n",
       "  </thead>\n",
       "  <tbody>\n",
       "    <tr>\n",
       "      <th>987</th>\n",
       "      <td>-0.535209</td>\n",
       "      <td>0.423588</td>\n",
       "      <td>-0.370254</td>\n",
       "      <td>-0.805413</td>\n",
       "      <td>1.659511</td>\n",
       "      <td>-0.804805</td>\n",
       "      <td>-0.645925</td>\n",
       "      <td>0.467631</td>\n",
       "      <td>-1.305104</td>\n",
       "      <td>-1.108155</td>\n",
       "      <td>-0.652429</td>\n",
       "      <td>-0.872155</td>\n",
       "      <td>-2.298157</td>\n",
       "      <td>1.165522</td>\n",
       "      <td>1.518413</td>\n",
       "      <td>-0.562680</td>\n",
       "      <td>-1.566481</td>\n",
       "      <td>-1.304103</td>\n",
       "      <td>-0.466156</td>\n",
       "      <td>1.730953</td>\n",
       "      <td>1.393426</td>\n",
       "      <td>-0.417772</td>\n",
       "    </tr>\n",
       "    <tr>\n",
       "      <th>584</th>\n",
       "      <td>-0.667496</td>\n",
       "      <td>0.423588</td>\n",
       "      <td>-0.370254</td>\n",
       "      <td>-0.805413</td>\n",
       "      <td>0.727886</td>\n",
       "      <td>-1.383918</td>\n",
       "      <td>1.548168</td>\n",
       "      <td>0.467631</td>\n",
       "      <td>-1.305104</td>\n",
       "      <td>-1.108155</td>\n",
       "      <td>-0.652429</td>\n",
       "      <td>-0.872155</td>\n",
       "      <td>1.385780</td>\n",
       "      <td>0.261820</td>\n",
       "      <td>1.518413</td>\n",
       "      <td>-0.562680</td>\n",
       "      <td>0.040551</td>\n",
       "      <td>1.071030</td>\n",
       "      <td>-0.466156</td>\n",
       "      <td>-1.060486</td>\n",
       "      <td>0.203509</td>\n",
       "      <td>-0.417772</td>\n",
       "    </tr>\n",
       "    <tr>\n",
       "      <th>367</th>\n",
       "      <td>0.523093</td>\n",
       "      <td>0.423588</td>\n",
       "      <td>-0.370254</td>\n",
       "      <td>1.241599</td>\n",
       "      <td>1.659511</td>\n",
       "      <td>0.353421</td>\n",
       "      <td>-0.645925</td>\n",
       "      <td>0.467631</td>\n",
       "      <td>-1.305104</td>\n",
       "      <td>1.207716</td>\n",
       "      <td>-0.652429</td>\n",
       "      <td>-0.872155</td>\n",
       "      <td>1.385780</td>\n",
       "      <td>-1.545584</td>\n",
       "      <td>-1.079032</td>\n",
       "      <td>-0.562680</td>\n",
       "      <td>0.040551</td>\n",
       "      <td>-0.116537</td>\n",
       "      <td>-0.466156</td>\n",
       "      <td>-1.060486</td>\n",
       "      <td>-0.986408</td>\n",
       "      <td>-0.417772</td>\n",
       "    </tr>\n",
       "    <tr>\n",
       "      <th>740</th>\n",
       "      <td>0.655380</td>\n",
       "      <td>0.423588</td>\n",
       "      <td>-0.370254</td>\n",
       "      <td>1.241599</td>\n",
       "      <td>0.727886</td>\n",
       "      <td>-0.225692</td>\n",
       "      <td>-0.645925</td>\n",
       "      <td>0.467631</td>\n",
       "      <td>-1.305104</td>\n",
       "      <td>1.207716</td>\n",
       "      <td>-0.652429</td>\n",
       "      <td>-0.872155</td>\n",
       "      <td>1.385780</td>\n",
       "      <td>-1.545584</td>\n",
       "      <td>-1.079032</td>\n",
       "      <td>-0.562680</td>\n",
       "      <td>0.040551</td>\n",
       "      <td>1.071030</td>\n",
       "      <td>-0.466156</td>\n",
       "      <td>0.335234</td>\n",
       "      <td>1.393426</td>\n",
       "      <td>2.393650</td>\n",
       "    </tr>\n",
       "    <tr>\n",
       "      <th>922</th>\n",
       "      <td>-0.535209</td>\n",
       "      <td>0.423588</td>\n",
       "      <td>-0.370254</td>\n",
       "      <td>1.241599</td>\n",
       "      <td>0.727886</td>\n",
       "      <td>-0.225692</td>\n",
       "      <td>-0.645925</td>\n",
       "      <td>-2.138438</td>\n",
       "      <td>1.132001</td>\n",
       "      <td>-1.108155</td>\n",
       "      <td>-0.652429</td>\n",
       "      <td>-0.872155</td>\n",
       "      <td>-0.456189</td>\n",
       "      <td>0.261820</td>\n",
       "      <td>0.219690</td>\n",
       "      <td>1.218586</td>\n",
       "      <td>0.040551</td>\n",
       "      <td>-0.116537</td>\n",
       "      <td>-0.466156</td>\n",
       "      <td>-1.060486</td>\n",
       "      <td>1.393426</td>\n",
       "      <td>-0.417772</td>\n",
       "    </tr>\n",
       "  </tbody>\n",
       "</table>\n",
       "</div>"
      ],
      "text/plain": [
       "          Age    Gender  self_employed  family_history  work_interfere  \\\n",
       "987 -0.535209  0.423588      -0.370254       -0.805413        1.659511   \n",
       "584 -0.667496  0.423588      -0.370254       -0.805413        0.727886   \n",
       "367  0.523093  0.423588      -0.370254        1.241599        1.659511   \n",
       "740  0.655380  0.423588      -0.370254        1.241599        0.727886   \n",
       "922 -0.535209  0.423588      -0.370254        1.241599        0.727886   \n",
       "\n",
       "     no_employees  remote_work  tech_company  benefits  care_options  \\\n",
       "987     -0.804805    -0.645925      0.467631 -1.305104     -1.108155   \n",
       "584     -1.383918     1.548168      0.467631 -1.305104     -1.108155   \n",
       "367      0.353421    -0.645925      0.467631 -1.305104      1.207716   \n",
       "740     -0.225692    -0.645925      0.467631 -1.305104      1.207716   \n",
       "922     -0.225692    -0.645925     -2.138438  1.132001     -1.108155   \n",
       "\n",
       "     wellness_program  seek_help  anonymity     leave  \\\n",
       "987         -0.652429  -0.872155  -2.298157  1.165522   \n",
       "584         -0.652429  -0.872155   1.385780  0.261820   \n",
       "367         -0.652429  -0.872155   1.385780 -1.545584   \n",
       "740         -0.652429  -0.872155   1.385780 -1.545584   \n",
       "922         -0.652429  -0.872155  -0.456189  0.261820   \n",
       "\n",
       "     mental_health_consequence  phys_health_consequence  coworkers  \\\n",
       "987                   1.518413                -0.562680  -1.566481   \n",
       "584                   1.518413                -0.562680   0.040551   \n",
       "367                  -1.079032                -0.562680   0.040551   \n",
       "740                  -1.079032                -0.562680   0.040551   \n",
       "922                   0.219690                 1.218586   0.040551   \n",
       "\n",
       "     supervisor  mental_health_interview  phys_health_interview  \\\n",
       "987   -1.304103                -0.466156               1.730953   \n",
       "584    1.071030                -0.466156              -1.060486   \n",
       "367   -0.116537                -0.466156              -1.060486   \n",
       "740    1.071030                -0.466156               0.335234   \n",
       "922   -0.116537                -0.466156              -1.060486   \n",
       "\n",
       "     mental_vs_physical  obs_consequence  \n",
       "987            1.393426        -0.417772  \n",
       "584            0.203509        -0.417772  \n",
       "367           -0.986408        -0.417772  \n",
       "740            1.393426         2.393650  \n",
       "922            1.393426        -0.417772  "
      ]
     },
     "execution_count": 78,
     "metadata": {},
     "output_type": "execute_result"
    }
   ],
   "source": [
    "# Verifying the Changes made\n",
    "\n",
    "x_train.head()"
   ]
  },
  {
   "cell_type": "markdown",
   "id": "063559ba",
   "metadata": {},
   "source": [
    "# Label Encoding"
   ]
  },
  {
   "cell_type": "code",
   "execution_count": 79,
   "id": "dc573995",
   "metadata": {},
   "outputs": [],
   "source": [
    "from sklearn.preprocessing import LabelEncoder\n",
    "\n",
    "lb_encoder=LabelEncoder()\n",
    "y_train=lb_encoder.fit_transform(y_train)"
   ]
  },
  {
   "cell_type": "markdown",
   "id": "91ac22ec",
   "metadata": {},
   "source": [
    "# MODEL BUILDING AND EVALUATION"
   ]
  },
  {
   "cell_type": "code",
   "execution_count": 80,
   "id": "12766cb8",
   "metadata": {},
   "outputs": [],
   "source": [
    "from sklearn.metrics import f1_score\n",
    "from sklearn.model_selection import cross_val_score"
   ]
  },
  {
   "cell_type": "code",
   "execution_count": 81,
   "id": "d010d876",
   "metadata": {},
   "outputs": [],
   "source": [
    "# we are going to use different models for better performance"
   ]
  },
  {
   "cell_type": "markdown",
   "id": "50df2c7f",
   "metadata": {},
   "source": [
    "# LOGISTIC REGRESSION"
   ]
  },
  {
   "cell_type": "code",
   "execution_count": 82,
   "id": "c6ae0de0",
   "metadata": {},
   "outputs": [],
   "source": [
    "from sklearn.linear_model import LogisticRegression\n",
    "log_reg=LogisticRegression(penalty='l1',solver='liblinear')\n",
    "log_reg.fit(x_train,y_train)\n",
    "y_pred=log_reg.predict(x_train)\n",
    "f1_train=f1_score(y_train,y_pred)\n",
    "\n",
    "# Cross validation\n",
    "f1_val=cross_val_score(log_reg,x_train,y_train,cv=10,scoring='f1')\n"
   ]
  },
  {
   "cell_type": "code",
   "execution_count": 115,
   "id": "5d747d6a",
   "metadata": {},
   "outputs": [
    {
     "data": {
      "text/plain": [
       "array([[377, 152],\n",
       "       [ 31, 510]], dtype=int64)"
      ]
     },
     "execution_count": 115,
     "metadata": {},
     "output_type": "execute_result"
    }
   ],
   "source": [
    "# Confusion Matrix and Classification Report\n",
    "from sklearn.metrics import classification_report,confusion_matrix,accuracy_score\n",
    "\n",
    "cf=confusion_matrix(y_train,y_pred)\n",
    "cf"
   ]
  },
  {
   "cell_type": "code",
   "execution_count": 116,
   "id": "5db92feb",
   "metadata": {},
   "outputs": [
    {
     "name": "stdout",
     "output_type": "stream",
     "text": [
      "              precision    recall  f1-score   support\n",
      "\n",
      "           0       0.92      0.71      0.80       529\n",
      "           1       0.77      0.94      0.85       541\n",
      "\n",
      "    accuracy                           0.83      1070\n",
      "   macro avg       0.85      0.83      0.83      1070\n",
      "weighted avg       0.85      0.83      0.83      1070\n",
      "\n"
     ]
    }
   ],
   "source": [
    "print(classification_report(y_train,y_pred))"
   ]
  },
  {
   "cell_type": "code",
   "execution_count": 83,
   "id": "609dcacd",
   "metadata": {},
   "outputs": [
    {
     "data": {
      "text/html": [
       "<div>\n",
       "<style scoped>\n",
       "    .dataframe tbody tr th:only-of-type {\n",
       "        vertical-align: middle;\n",
       "    }\n",
       "\n",
       "    .dataframe tbody tr th {\n",
       "        vertical-align: top;\n",
       "    }\n",
       "\n",
       "    .dataframe thead th {\n",
       "        text-align: right;\n",
       "    }\n",
       "</style>\n",
       "<table border=\"1\" class=\"dataframe\">\n",
       "  <thead>\n",
       "    <tr style=\"text-align: right;\">\n",
       "      <th></th>\n",
       "      <th>Name</th>\n",
       "      <th>F1_score_trainset</th>\n",
       "      <th>F1_score_validationset</th>\n",
       "    </tr>\n",
       "  </thead>\n",
       "  <tbody>\n",
       "    <tr>\n",
       "      <th>0</th>\n",
       "      <td>Logistic Regression</td>\n",
       "      <td>0.825023</td>\n",
       "      <td>0.818548</td>\n",
       "    </tr>\n",
       "  </tbody>\n",
       "</table>\n",
       "</div>"
      ],
      "text/plain": [
       "                  Name  F1_score_trainset  F1_score_validationset\n",
       "0  Logistic Regression           0.825023                0.818548"
      ]
     },
     "execution_count": 83,
     "metadata": {},
     "output_type": "execute_result"
    }
   ],
   "source": [
    "# Verifying the Scores \n",
    "\n",
    "score = pd.DataFrame({'Name' : 'Logistic Regression' ,'F1_score_trainset' : [f1_train], \n",
    "                      'F1_score_validationset' : [f1_val.mean()]})\n",
    "score"
   ]
  },
  {
   "cell_type": "markdown",
   "id": "813c7aea",
   "metadata": {},
   "source": [
    "# DECISION TREE"
   ]
  },
  {
   "cell_type": "code",
   "execution_count": 84,
   "id": "e186ceae",
   "metadata": {},
   "outputs": [
    {
     "data": {
      "text/html": [
       "<div>\n",
       "<style scoped>\n",
       "    .dataframe tbody tr th:only-of-type {\n",
       "        vertical-align: middle;\n",
       "    }\n",
       "\n",
       "    .dataframe tbody tr th {\n",
       "        vertical-align: top;\n",
       "    }\n",
       "\n",
       "    .dataframe thead th {\n",
       "        text-align: right;\n",
       "    }\n",
       "</style>\n",
       "<table border=\"1\" class=\"dataframe\">\n",
       "  <thead>\n",
       "    <tr style=\"text-align: right;\">\n",
       "      <th></th>\n",
       "      <th>Name</th>\n",
       "      <th>F1_score_trainset</th>\n",
       "      <th>F1_score_validationset</th>\n",
       "    </tr>\n",
       "  </thead>\n",
       "  <tbody>\n",
       "    <tr>\n",
       "      <th>0</th>\n",
       "      <td>DECISION TREE</td>\n",
       "      <td>0.845771</td>\n",
       "      <td>0.845624</td>\n",
       "    </tr>\n",
       "  </tbody>\n",
       "</table>\n",
       "</div>"
      ],
      "text/plain": [
       "            Name  F1_score_trainset  F1_score_validationset\n",
       "0  DECISION TREE           0.845771                0.845624"
      ]
     },
     "execution_count": 84,
     "metadata": {},
     "output_type": "execute_result"
    }
   ],
   "source": [
    "from sklearn.tree import DecisionTreeClassifier\n",
    "d_tree=DecisionTreeClassifier(max_leaf_nodes=3,random_state=2)\n",
    "d_tree.fit(x_train,y_train)\n",
    "y_pred=d_tree.predict(x_train)\n",
    "f1_train=f1_score(y_train,y_pred)\n",
    "\n",
    "\n",
    "# Cross validation\n",
    "f1_val=cross_val_score(d_tree,x_train,y_train,cv=10,scoring='f1')\n",
    "\n",
    "# Verifying the Scores \n",
    "\n",
    "score = pd.DataFrame({'Name' : 'DECISION TREE' ,'F1_score_trainset' : [f1_train], \n",
    "                      'F1_score_validationset' : [f1_val.mean()]})\n",
    "score\n",
    "\n"
   ]
  },
  {
   "cell_type": "code",
   "execution_count": 118,
   "id": "7b67c0ce",
   "metadata": {},
   "outputs": [
    {
     "data": {
      "text/plain": [
       "array([[377, 152],\n",
       "       [ 31, 510]], dtype=int64)"
      ]
     },
     "execution_count": 118,
     "metadata": {},
     "output_type": "execute_result"
    }
   ],
   "source": [
    "# Confusion Matrix and Classification Report\n",
    "from sklearn.metrics import classification_report,confusion_matrix,accuracy_score\n",
    "\n",
    "cf=confusion_matrix(y_train,y_pred)\n",
    "cf"
   ]
  },
  {
   "cell_type": "code",
   "execution_count": 119,
   "id": "811b3967",
   "metadata": {},
   "outputs": [
    {
     "name": "stdout",
     "output_type": "stream",
     "text": [
      "              precision    recall  f1-score   support\n",
      "\n",
      "           0       0.92      0.71      0.80       529\n",
      "           1       0.77      0.94      0.85       541\n",
      "\n",
      "    accuracy                           0.83      1070\n",
      "   macro avg       0.85      0.83      0.83      1070\n",
      "weighted avg       0.85      0.83      0.83      1070\n",
      "\n"
     ]
    }
   ],
   "source": [
    "print(classification_report(y_train,y_pred))"
   ]
  },
  {
   "cell_type": "markdown",
   "id": "4f50a763",
   "metadata": {},
   "source": [
    "# SVM"
   ]
  },
  {
   "cell_type": "code",
   "execution_count": 85,
   "id": "610e8963",
   "metadata": {},
   "outputs": [
    {
     "data": {
      "text/html": [
       "<div>\n",
       "<style scoped>\n",
       "    .dataframe tbody tr th:only-of-type {\n",
       "        vertical-align: middle;\n",
       "    }\n",
       "\n",
       "    .dataframe tbody tr th {\n",
       "        vertical-align: top;\n",
       "    }\n",
       "\n",
       "    .dataframe thead th {\n",
       "        text-align: right;\n",
       "    }\n",
       "</style>\n",
       "<table border=\"1\" class=\"dataframe\">\n",
       "  <thead>\n",
       "    <tr style=\"text-align: right;\">\n",
       "      <th></th>\n",
       "      <th>Name</th>\n",
       "      <th>F1_score_trainset</th>\n",
       "      <th>F1_score_validationset</th>\n",
       "    </tr>\n",
       "  </thead>\n",
       "  <tbody>\n",
       "    <tr>\n",
       "      <th>0</th>\n",
       "      <td>SVM</td>\n",
       "      <td>0.883392</td>\n",
       "      <td>0.824692</td>\n",
       "    </tr>\n",
       "  </tbody>\n",
       "</table>\n",
       "</div>"
      ],
      "text/plain": [
       "  Name  F1_score_trainset  F1_score_validationset\n",
       "0  SVM           0.883392                0.824692"
      ]
     },
     "execution_count": 85,
     "metadata": {},
     "output_type": "execute_result"
    }
   ],
   "source": [
    "from sklearn.svm import SVC\n",
    "\n",
    "model=SVC()\n",
    "model.fit(x_train,y_train)\n",
    "y_pred=model.predict(x_train)\n",
    "f1_train=f1_score(y_train,y_pred)\n",
    "\n",
    "# Cross validation\n",
    "f1_val=cross_val_score(model,x_train,y_train,cv=10,scoring='f1')\n",
    "\n",
    "# Verifying the scores\n",
    "\n",
    "score = pd.DataFrame({'Name' : 'SVM' ,'F1_score_trainset' : [f1_train], \n",
    "                      'F1_score_validationset' : [f1_val.mean()]})\n",
    "score"
   ]
  },
  {
   "cell_type": "code",
   "execution_count": 121,
   "id": "6b21d722",
   "metadata": {},
   "outputs": [
    {
     "data": {
      "text/plain": [
       "array([[377, 152],\n",
       "       [ 31, 510]], dtype=int64)"
      ]
     },
     "execution_count": 121,
     "metadata": {},
     "output_type": "execute_result"
    }
   ],
   "source": [
    "# Confusion Matrix and Classification Report\n",
    "from sklearn.metrics import classification_report,confusion_matrix,accuracy_score\n",
    "\n",
    "cf=confusion_matrix(y_train,y_pred)\n",
    "cf"
   ]
  },
  {
   "cell_type": "code",
   "execution_count": 120,
   "id": "04f66b48",
   "metadata": {},
   "outputs": [
    {
     "name": "stdout",
     "output_type": "stream",
     "text": [
      "              precision    recall  f1-score   support\n",
      "\n",
      "           0       0.92      0.71      0.80       529\n",
      "           1       0.77      0.94      0.85       541\n",
      "\n",
      "    accuracy                           0.83      1070\n",
      "   macro avg       0.85      0.83      0.83      1070\n",
      "weighted avg       0.85      0.83      0.83      1070\n",
      "\n"
     ]
    }
   ],
   "source": [
    "print(classification_report(y_train,y_pred))"
   ]
  },
  {
   "cell_type": "markdown",
   "id": "9358f63a",
   "metadata": {},
   "source": [
    "# RANDOM FOREST"
   ]
  },
  {
   "cell_type": "code",
   "execution_count": 86,
   "id": "61a4c79d",
   "metadata": {},
   "outputs": [
    {
     "data": {
      "text/html": [
       "<div>\n",
       "<style scoped>\n",
       "    .dataframe tbody tr th:only-of-type {\n",
       "        vertical-align: middle;\n",
       "    }\n",
       "\n",
       "    .dataframe tbody tr th {\n",
       "        vertical-align: top;\n",
       "    }\n",
       "\n",
       "    .dataframe thead th {\n",
       "        text-align: right;\n",
       "    }\n",
       "</style>\n",
       "<table border=\"1\" class=\"dataframe\">\n",
       "  <thead>\n",
       "    <tr style=\"text-align: right;\">\n",
       "      <th></th>\n",
       "      <th>name</th>\n",
       "      <th>F1_Score_trainset</th>\n",
       "      <th>F1_score_validationset</th>\n",
       "    </tr>\n",
       "  </thead>\n",
       "  <tbody>\n",
       "    <tr>\n",
       "      <th>0</th>\n",
       "      <td>RANDOM FOREST</td>\n",
       "      <td>1.0</td>\n",
       "      <td>0.836386</td>\n",
       "    </tr>\n",
       "  </tbody>\n",
       "</table>\n",
       "</div>"
      ],
      "text/plain": [
       "            name  F1_Score_trainset  F1_score_validationset\n",
       "0  RANDOM FOREST                1.0                0.836386"
      ]
     },
     "execution_count": 86,
     "metadata": {},
     "output_type": "execute_result"
    }
   ],
   "source": [
    "from sklearn.ensemble import RandomForestClassifier\n",
    "\n",
    "rfc=RandomForestClassifier(random_state=2)\n",
    "rfc.fit(x_train,y_train)\n",
    "y_pred=rfc.predict(x_train)\n",
    "f1_train=f1_score(y_train,y_pred)\n",
    "\n",
    "# Cross validation\n",
    "f1_val=cross_val_score(rfc,x_train,y_train,cv=10,scoring='f1')\n",
    "\n",
    "# Verifying the score\n",
    "score=pd.DataFrame({\"name\":\"RANDOM FOREST\",\"F1_Score_trainset\":[f1_train],\n",
    "                   \"F1_score_validationset\":[f1_val.mean()]})\n",
    "\n",
    "score"
   ]
  },
  {
   "cell_type": "code",
   "execution_count": 122,
   "id": "c48951f4",
   "metadata": {},
   "outputs": [
    {
     "data": {
      "text/plain": [
       "array([[377, 152],\n",
       "       [ 31, 510]], dtype=int64)"
      ]
     },
     "execution_count": 122,
     "metadata": {},
     "output_type": "execute_result"
    }
   ],
   "source": [
    "# Confusion Matrix and Classification Report\n",
    "\n",
    "cf=confusion_matrix(y_train,y_pred)\n",
    "cf"
   ]
  },
  {
   "cell_type": "code",
   "execution_count": 123,
   "id": "d780d6b6",
   "metadata": {},
   "outputs": [
    {
     "name": "stdout",
     "output_type": "stream",
     "text": [
      "              precision    recall  f1-score   support\n",
      "\n",
      "           0       0.92      0.71      0.80       529\n",
      "           1       0.77      0.94      0.85       541\n",
      "\n",
      "    accuracy                           0.83      1070\n",
      "   macro avg       0.85      0.83      0.83      1070\n",
      "weighted avg       0.85      0.83      0.83      1070\n",
      "\n"
     ]
    }
   ],
   "source": [
    "print(classification_report(y_train,y_pred))"
   ]
  },
  {
   "cell_type": "markdown",
   "id": "b4113393",
   "metadata": {},
   "source": [
    "# ADABOOST"
   ]
  },
  {
   "cell_type": "code",
   "execution_count": 87,
   "id": "63c7d185",
   "metadata": {},
   "outputs": [
    {
     "data": {
      "text/html": [
       "<div>\n",
       "<style scoped>\n",
       "    .dataframe tbody tr th:only-of-type {\n",
       "        vertical-align: middle;\n",
       "    }\n",
       "\n",
       "    .dataframe tbody tr th {\n",
       "        vertical-align: top;\n",
       "    }\n",
       "\n",
       "    .dataframe thead th {\n",
       "        text-align: right;\n",
       "    }\n",
       "</style>\n",
       "<table border=\"1\" class=\"dataframe\">\n",
       "  <thead>\n",
       "    <tr style=\"text-align: right;\">\n",
       "      <th></th>\n",
       "      <th>name</th>\n",
       "      <th>F1_Score_trainset</th>\n",
       "      <th>F1_score_validationset</th>\n",
       "    </tr>\n",
       "  </thead>\n",
       "  <tbody>\n",
       "    <tr>\n",
       "      <th>0</th>\n",
       "      <td>ADABOOST</td>\n",
       "      <td>1.0</td>\n",
       "      <td>0.719602</td>\n",
       "    </tr>\n",
       "  </tbody>\n",
       "</table>\n",
       "</div>"
      ],
      "text/plain": [
       "       name  F1_Score_trainset  F1_score_validationset\n",
       "0  ADABOOST                1.0                0.719602"
      ]
     },
     "execution_count": 87,
     "metadata": {},
     "output_type": "execute_result"
    }
   ],
   "source": [
    "from sklearn.ensemble import AdaBoostClassifier\n",
    "\n",
    "dt_clf_ada = DecisionTreeClassifier()\n",
    "Ada_clf = AdaBoostClassifier(base_estimator=dt_clf_ada,random_state=42)\n",
    "Ada_clf.fit(x_train,y_train)\n",
    "y_pred=Ada_clf.predict(x_train)\n",
    "f1_train=f1_score(y_train,y_pred)\n",
    "\n",
    "# Cross validation\n",
    "f1_val=cross_val_score(Ada_clf,x_train,y_train,cv=10,scoring='f1')\n",
    "\n",
    "# Verifying the score\n",
    "score=pd.DataFrame({\"name\":\"ADABOOST\",\"F1_Score_trainset\":[f1_train],\n",
    "                   \"F1_score_validationset\":[f1_val.mean()]})\n",
    "\n",
    "score"
   ]
  },
  {
   "cell_type": "code",
   "execution_count": 124,
   "id": "f5c5b89b",
   "metadata": {},
   "outputs": [
    {
     "data": {
      "text/plain": [
       "array([[377, 152],\n",
       "       [ 31, 510]], dtype=int64)"
      ]
     },
     "execution_count": 124,
     "metadata": {},
     "output_type": "execute_result"
    }
   ],
   "source": [
    "# Confusion Matrix and Classification Report\n",
    "\n",
    "cf=confusion_matrix(y_train,y_pred)\n",
    "cf"
   ]
  },
  {
   "cell_type": "code",
   "execution_count": 125,
   "id": "266469a3",
   "metadata": {},
   "outputs": [
    {
     "name": "stdout",
     "output_type": "stream",
     "text": [
      "              precision    recall  f1-score   support\n",
      "\n",
      "           0       0.92      0.71      0.80       529\n",
      "           1       0.77      0.94      0.85       541\n",
      "\n",
      "    accuracy                           0.83      1070\n",
      "   macro avg       0.85      0.83      0.83      1070\n",
      "weighted avg       0.85      0.83      0.83      1070\n",
      "\n"
     ]
    }
   ],
   "source": [
    "print(classification_report(y_train,y_pred))"
   ]
  },
  {
   "cell_type": "markdown",
   "id": "b3e6bac0",
   "metadata": {},
   "source": [
    "# GRADIENT BOOSTING"
   ]
  },
  {
   "cell_type": "code",
   "execution_count": 88,
   "id": "eda79de1",
   "metadata": {},
   "outputs": [
    {
     "data": {
      "text/html": [
       "<div>\n",
       "<style scoped>\n",
       "    .dataframe tbody tr th:only-of-type {\n",
       "        vertical-align: middle;\n",
       "    }\n",
       "\n",
       "    .dataframe tbody tr th {\n",
       "        vertical-align: top;\n",
       "    }\n",
       "\n",
       "    .dataframe thead th {\n",
       "        text-align: right;\n",
       "    }\n",
       "</style>\n",
       "<table border=\"1\" class=\"dataframe\">\n",
       "  <thead>\n",
       "    <tr style=\"text-align: right;\">\n",
       "      <th></th>\n",
       "      <th>name</th>\n",
       "      <th>F1_Score_trainset</th>\n",
       "      <th>F1_score_validationset</th>\n",
       "    </tr>\n",
       "  </thead>\n",
       "  <tbody>\n",
       "    <tr>\n",
       "      <th>0</th>\n",
       "      <td>Gradient Boosting</td>\n",
       "      <td>0.903863</td>\n",
       "      <td>0.837939</td>\n",
       "    </tr>\n",
       "  </tbody>\n",
       "</table>\n",
       "</div>"
      ],
      "text/plain": [
       "                name  F1_Score_trainset  F1_score_validationset\n",
       "0  Gradient Boosting           0.903863                0.837939"
      ]
     },
     "execution_count": 88,
     "metadata": {},
     "output_type": "execute_result"
    }
   ],
   "source": [
    "from sklearn.ensemble import GradientBoostingClassifier\n",
    "gdb_clf = GradientBoostingClassifier(random_state=42,subsample=0.8)\n",
    "gdb_clf.fit(x_train,y_train)\n",
    "y_pred=gdb_clf.predict(x_train)\n",
    "f1_train=f1_score(y_train,y_pred)\n",
    "\n",
    "# Cross validation\n",
    "f1_val=cross_val_score(gdb_clf,x_train,y_train,cv=10,scoring='f1')\n",
    "\n",
    "# Verifying the score\n",
    "score=pd.DataFrame({\"name\":\"Gradient Boosting\",\"F1_Score_trainset\":[f1_train],\n",
    "                   \"F1_score_validationset\":[f1_val.mean()]})\n",
    "\n",
    "score\n"
   ]
  },
  {
   "cell_type": "code",
   "execution_count": 126,
   "id": "81b7ee5c",
   "metadata": {},
   "outputs": [
    {
     "data": {
      "text/plain": [
       "array([[377, 152],\n",
       "       [ 31, 510]], dtype=int64)"
      ]
     },
     "execution_count": 126,
     "metadata": {},
     "output_type": "execute_result"
    }
   ],
   "source": [
    "# Confusion Matrix and Classification Report\n",
    "\n",
    "cf=confusion_matrix(y_train,y_pred)\n",
    "cf"
   ]
  },
  {
   "cell_type": "code",
   "execution_count": 127,
   "id": "bc45ff57",
   "metadata": {},
   "outputs": [
    {
     "name": "stdout",
     "output_type": "stream",
     "text": [
      "              precision    recall  f1-score   support\n",
      "\n",
      "           0       0.92      0.71      0.80       529\n",
      "           1       0.77      0.94      0.85       541\n",
      "\n",
      "    accuracy                           0.83      1070\n",
      "   macro avg       0.85      0.83      0.83      1070\n",
      "weighted avg       0.85      0.83      0.83      1070\n",
      "\n"
     ]
    }
   ],
   "source": [
    "print(classification_report(y_train,y_pred))"
   ]
  },
  {
   "cell_type": "markdown",
   "id": "6a5f8b2a",
   "metadata": {},
   "source": [
    "# XGBOOST"
   ]
  },
  {
   "cell_type": "code",
   "execution_count": 130,
   "id": "6aec34c1",
   "metadata": {},
   "outputs": [
    {
     "data": {
      "text/html": [
       "<div>\n",
       "<style scoped>\n",
       "    .dataframe tbody tr th:only-of-type {\n",
       "        vertical-align: middle;\n",
       "    }\n",
       "\n",
       "    .dataframe tbody tr th {\n",
       "        vertical-align: top;\n",
       "    }\n",
       "\n",
       "    .dataframe thead th {\n",
       "        text-align: right;\n",
       "    }\n",
       "</style>\n",
       "<table border=\"1\" class=\"dataframe\">\n",
       "  <thead>\n",
       "    <tr style=\"text-align: right;\">\n",
       "      <th></th>\n",
       "      <th>name</th>\n",
       "      <th>F1_Score_trainset</th>\n",
       "      <th>F1_score_validationset</th>\n",
       "    </tr>\n",
       "  </thead>\n",
       "  <tbody>\n",
       "    <tr>\n",
       "      <th>0</th>\n",
       "      <td>XG Boost</td>\n",
       "      <td>1.0</td>\n",
       "      <td>0.804219</td>\n",
       "    </tr>\n",
       "  </tbody>\n",
       "</table>\n",
       "</div>"
      ],
      "text/plain": [
       "       name  F1_Score_trainset  F1_score_validationset\n",
       "0  XG Boost                1.0                0.804219"
      ]
     },
     "execution_count": 130,
     "metadata": {},
     "output_type": "execute_result"
    }
   ],
   "source": [
    "from xgboost import XGBClassifier\n",
    "xgb_clf = XGBClassifier(verbosity=0)\n",
    "xgb_clf.fit(x_train,y_train)\n",
    "y_pred=xgb_clf.predict(x_train)\n",
    "f1_train=f1_score(y_train,y_pred)\n",
    "\n",
    "# Cross validation\n",
    "f1_val=cross_val_score(xgb_clf,x_train,y_train,cv=10,scoring='f1')\n",
    "\n",
    "# Verifying the score\n",
    "score=pd.DataFrame({\"name\":\"XG Boost\",\"F1_Score_trainset\":[f1_train],\n",
    "                   \"F1_score_validationset\":[f1_val.mean()]})\n",
    "\n",
    "score\n"
   ]
  },
  {
   "cell_type": "code",
   "execution_count": 128,
   "id": "6d3a3b21",
   "metadata": {},
   "outputs": [
    {
     "data": {
      "text/plain": [
       "array([[377, 152],\n",
       "       [ 31, 510]], dtype=int64)"
      ]
     },
     "execution_count": 128,
     "metadata": {},
     "output_type": "execute_result"
    }
   ],
   "source": [
    "# Confusion Matrix and Classification Report\n",
    "\n",
    "cf=confusion_matrix(y_train,y_pred)\n",
    "cf"
   ]
  },
  {
   "cell_type": "code",
   "execution_count": 129,
   "id": "3c27d34d",
   "metadata": {},
   "outputs": [
    {
     "name": "stdout",
     "output_type": "stream",
     "text": [
      "              precision    recall  f1-score   support\n",
      "\n",
      "           0       0.92      0.71      0.80       529\n",
      "           1       0.77      0.94      0.85       541\n",
      "\n",
      "    accuracy                           0.83      1070\n",
      "   macro avg       0.85      0.83      0.83      1070\n",
      "weighted avg       0.85      0.83      0.83      1070\n",
      "\n"
     ]
    }
   ],
   "source": [
    "print(classification_report(y_train,y_pred))"
   ]
  },
  {
   "cell_type": "markdown",
   "id": "2d71b14d",
   "metadata": {},
   "source": [
    "Shortlisted Models                                                                                                             \n",
    "1. Decision Tree ---                                                                                                                 2. SVM ----\n",
    "3. Gradient Boosting  ----                                                                                                           4.  Random Forest ----\n"
   ]
  },
  {
   "cell_type": "markdown",
   "id": "7bf9ddc9",
   "metadata": {},
   "source": [
    "HYPER PARAMETER TUNING SVC"
   ]
  },
  {
   "cell_type": "code",
   "execution_count": 90,
   "id": "d5c0c9c0",
   "metadata": {},
   "outputs": [
    {
     "name": "stdout",
     "output_type": "stream",
     "text": [
      "Fitting 5 folds for each of 180 candidates, totalling 900 fits\n"
     ]
    },
    {
     "data": {
      "text/plain": [
       "GridSearchCV(cv=5, estimator=SVC(),\n",
       "             param_grid={'C': [0.01, 0.01, 0.1, 0.15, 0.2, 0.25, 0.5, 0.75, 1,\n",
       "                               2, 10, 100],\n",
       "                         'gamma': [1, 0.1, 0.01, 0.001, 0.0001],\n",
       "                         'kernel': ['linear', 'rbf', 'polynomial']},\n",
       "             scoring='f1', verbose=1)"
      ]
     },
     "execution_count": 90,
     "metadata": {},
     "output_type": "execute_result"
    }
   ],
   "source": [
    "from sklearn.model_selection import GridSearchCV\n",
    "param_distribs = {\n",
    "        'kernel': ['linear', 'rbf','polynomial'],\n",
    "        'C': [0.01,0.01,0.1,0.15,0.2,0.25,0.5,0.75,1,2,10,100],\n",
    "        'gamma': [1, 0.1, 0.01, 0.001, 0.0001],\n",
    "    }\n",
    "svm_clf = SVC()\n",
    "grid_cv = GridSearchCV(svm_clf , param_grid = param_distribs,\n",
    "                              cv=5,scoring='f1',\n",
    "                              verbose=1)\n",
    "grid_cv.fit(x_train,y_train)"
   ]
  },
  {
   "cell_type": "code",
   "execution_count": 91,
   "id": "b7062333",
   "metadata": {},
   "outputs": [
    {
     "data": {
      "text/plain": [
       "SVC(C=0.75, gamma=0.01)"
      ]
     },
     "execution_count": 91,
     "metadata": {},
     "output_type": "execute_result"
    }
   ],
   "source": [
    "grid_cv.best_estimator_"
   ]
  },
  {
   "cell_type": "code",
   "execution_count": 92,
   "id": "9d96d2ef",
   "metadata": {},
   "outputs": [
    {
     "data": {
      "text/html": [
       "<div>\n",
       "<style scoped>\n",
       "    .dataframe tbody tr th:only-of-type {\n",
       "        vertical-align: middle;\n",
       "    }\n",
       "\n",
       "    .dataframe tbody tr th {\n",
       "        vertical-align: top;\n",
       "    }\n",
       "\n",
       "    .dataframe thead th {\n",
       "        text-align: right;\n",
       "    }\n",
       "</style>\n",
       "<table border=\"1\" class=\"dataframe\">\n",
       "  <thead>\n",
       "    <tr style=\"text-align: right;\">\n",
       "      <th></th>\n",
       "      <th>name</th>\n",
       "      <th>F1_Score_trainset</th>\n",
       "      <th>F1_score_validationset</th>\n",
       "    </tr>\n",
       "  </thead>\n",
       "  <tbody>\n",
       "    <tr>\n",
       "      <th>0</th>\n",
       "      <td>SVM</td>\n",
       "      <td>0.847222</td>\n",
       "      <td>0.836403</td>\n",
       "    </tr>\n",
       "  </tbody>\n",
       "</table>\n",
       "</div>"
      ],
      "text/plain": [
       "  name  F1_Score_trainset  F1_score_validationset\n",
       "0  SVM           0.847222                0.836403"
      ]
     },
     "execution_count": 92,
     "metadata": {},
     "output_type": "execute_result"
    }
   ],
   "source": [
    "grid_cv.best_estimator_.fit(x_train,y_train)\n",
    "y_pred=grid_cv.best_estimator_.predict(x_train)\n",
    "f1_train=f1_score(y_train,y_pred)\n",
    "\n",
    "# Cross validation\n",
    "f1_val=cross_val_score(grid_cv.best_estimator_,x_train,y_train,cv=10,scoring='f1')\n",
    "\n",
    "# Verifying the score\n",
    "score=pd.DataFrame({\"name\":\"SVM\",\"F1_Score_trainset\":[f1_train],\n",
    "                   \"F1_score_validationset\":[f1_val.mean()]})\n",
    "\n",
    "score"
   ]
  },
  {
   "cell_type": "markdown",
   "id": "32704bbe",
   "metadata": {},
   "source": [
    "HYPER PARAMETER TUNING Decision Tree"
   ]
  },
  {
   "cell_type": "code",
   "execution_count": 93,
   "id": "2609c67d",
   "metadata": {},
   "outputs": [
    {
     "name": "stdout",
     "output_type": "stream",
     "text": [
      "Fitting 5 folds for each of 90 candidates, totalling 450 fits\n"
     ]
    },
    {
     "data": {
      "text/plain": [
       "GridSearchCV(cv=5, estimator=DecisionTreeClassifier(random_state=1024),\n",
       "             param_grid={'ccp_alpha': [0.1, 0.01, 0.001],\n",
       "                         'criterion': ['gini', 'entropy'],\n",
       "                         'max_depth': [5, 6, 7, 8, 9],\n",
       "                         'max_features': ['auto', 'sqrt', 'log2']},\n",
       "             verbose=True)"
      ]
     },
     "execution_count": 93,
     "metadata": {},
     "output_type": "execute_result"
    }
   ],
   "source": [
    "param_grid = {'max_features': ['auto', 'sqrt', 'log2'],\n",
    "              'ccp_alpha': [0.1, .01, .001],\n",
    "              'max_depth' : [5, 6, 7, 8, 9],\n",
    "              'criterion' :['gini', 'entropy']\n",
    "             }\n",
    "tree_clas = DecisionTreeClassifier(random_state=1024)\n",
    "grid_search = GridSearchCV(estimator=tree_clas, param_grid=param_grid, cv=5, verbose=True)\n",
    "grid_search.fit(x_train, y_train)"
   ]
  },
  {
   "cell_type": "code",
   "execution_count": 94,
   "id": "429f3c96",
   "metadata": {},
   "outputs": [
    {
     "data": {
      "text/plain": [
       "DecisionTreeClassifier(ccp_alpha=0.001, criterion='entropy', max_depth=7,\n",
       "                       max_features='auto', random_state=1024)"
      ]
     },
     "execution_count": 94,
     "metadata": {},
     "output_type": "execute_result"
    }
   ],
   "source": [
    "grid_search.best_estimator_"
   ]
  },
  {
   "cell_type": "code",
   "execution_count": 95,
   "id": "9196c29c",
   "metadata": {},
   "outputs": [
    {
     "data": {
      "text/html": [
       "<div>\n",
       "<style scoped>\n",
       "    .dataframe tbody tr th:only-of-type {\n",
       "        vertical-align: middle;\n",
       "    }\n",
       "\n",
       "    .dataframe tbody tr th {\n",
       "        vertical-align: top;\n",
       "    }\n",
       "\n",
       "    .dataframe thead th {\n",
       "        text-align: right;\n",
       "    }\n",
       "</style>\n",
       "<table border=\"1\" class=\"dataframe\">\n",
       "  <thead>\n",
       "    <tr style=\"text-align: right;\">\n",
       "      <th></th>\n",
       "      <th>name</th>\n",
       "      <th>F1_Score_trainset</th>\n",
       "      <th>F1_score_validationset</th>\n",
       "    </tr>\n",
       "  </thead>\n",
       "  <tbody>\n",
       "    <tr>\n",
       "      <th>0</th>\n",
       "      <td>Decision Tree</td>\n",
       "      <td>0.835145</td>\n",
       "      <td>0.741846</td>\n",
       "    </tr>\n",
       "  </tbody>\n",
       "</table>\n",
       "</div>"
      ],
      "text/plain": [
       "            name  F1_Score_trainset  F1_score_validationset\n",
       "0  Decision Tree           0.835145                0.741846"
      ]
     },
     "execution_count": 95,
     "metadata": {},
     "output_type": "execute_result"
    }
   ],
   "source": [
    "grid_search.best_estimator_.fit(x_train,y_train)\n",
    "y_pred=grid_search.best_estimator_.predict(x_train)\n",
    "f1_train=f1_score(y_train,y_pred)\n",
    "\n",
    "# Cross validation\n",
    "f1_val=cross_val_score(grid_search.best_estimator_,x_train,y_train,cv=10,scoring='f1')\n",
    "\n",
    "# Verifying the score\n",
    "score=pd.DataFrame({\"name\":\"Decision Tree\",\"F1_Score_trainset\":[f1_train],\n",
    "                   \"F1_score_validationset\":[f1_val.mean()]})\n",
    "\n",
    "score"
   ]
  },
  {
   "cell_type": "markdown",
   "id": "1060e9ad",
   "metadata": {},
   "source": [
    "HYPER PARAMETER TUNING Random Forest"
   ]
  },
  {
   "cell_type": "code",
   "execution_count": 96,
   "id": "bf7c107b",
   "metadata": {
    "scrolled": true
   },
   "outputs": [
    {
     "data": {
      "text/plain": [
       "GridSearchCV(cv=5, estimator=RandomForestClassifier(random_state=2),\n",
       "             param_grid=[{'max_depth': [1, 2, 3, 4],\n",
       "                          'max_features': [2, 4, 6, 8],\n",
       "                          'n_estimators': [3, 10, 30, 50, 100]}],\n",
       "             return_train_score=True, scoring='f1')"
      ]
     },
     "execution_count": 96,
     "metadata": {},
     "output_type": "execute_result"
    }
   ],
   "source": [
    "from sklearn.model_selection import GridSearchCV\n",
    "\n",
    "param_grid = [\n",
    "    {'n_estimators':[3,10,30,50,100],'max_features':[2,4,6,8],'max_depth' : [1,2,3,4]}\n",
    "]\n",
    "\n",
    "\n",
    "\n",
    "forest_clf = RandomForestClassifier(random_state=2)\n",
    "grid_search3 = GridSearchCV(forest_clf, param_grid, cv=5,\n",
    "                           scoring='f1',\n",
    "                           return_train_score=True)\n",
    "grid_search3.fit(x_train, y_train)"
   ]
  },
  {
   "cell_type": "code",
   "execution_count": 97,
   "id": "dd201d93",
   "metadata": {},
   "outputs": [
    {
     "data": {
      "text/plain": [
       "RandomForestClassifier(max_depth=4, max_features=8, n_estimators=50,\n",
       "                       random_state=2)"
      ]
     },
     "execution_count": 97,
     "metadata": {},
     "output_type": "execute_result"
    }
   ],
   "source": [
    "grid_search3.best_estimator_"
   ]
  },
  {
   "cell_type": "code",
   "execution_count": 98,
   "id": "f6d99e16",
   "metadata": {},
   "outputs": [
    {
     "data": {
      "text/html": [
       "<div>\n",
       "<style scoped>\n",
       "    .dataframe tbody tr th:only-of-type {\n",
       "        vertical-align: middle;\n",
       "    }\n",
       "\n",
       "    .dataframe tbody tr th {\n",
       "        vertical-align: top;\n",
       "    }\n",
       "\n",
       "    .dataframe thead th {\n",
       "        text-align: right;\n",
       "    }\n",
       "</style>\n",
       "<table border=\"1\" class=\"dataframe\">\n",
       "  <thead>\n",
       "    <tr style=\"text-align: right;\">\n",
       "      <th></th>\n",
       "      <th>name</th>\n",
       "      <th>F1_Score_trainset</th>\n",
       "      <th>F1_score_validationset</th>\n",
       "    </tr>\n",
       "  </thead>\n",
       "  <tbody>\n",
       "    <tr>\n",
       "      <th>0</th>\n",
       "      <td>Random Forest</td>\n",
       "      <td>0.848586</td>\n",
       "      <td>0.845027</td>\n",
       "    </tr>\n",
       "  </tbody>\n",
       "</table>\n",
       "</div>"
      ],
      "text/plain": [
       "            name  F1_Score_trainset  F1_score_validationset\n",
       "0  Random Forest           0.848586                0.845027"
      ]
     },
     "execution_count": 98,
     "metadata": {},
     "output_type": "execute_result"
    }
   ],
   "source": [
    "grid_search3.best_estimator_.fit(x_train,y_train)\n",
    "y_pred=grid_search3.best_estimator_.predict(x_train)\n",
    "f1_train=f1_score(y_train,y_pred)\n",
    "\n",
    "# Cross validation\n",
    "f1_val=cross_val_score(grid_search3.best_estimator_,x_train,y_train,cv=10,scoring='f1')\n",
    "\n",
    "# Verifying the score\n",
    "score=pd.DataFrame({\"name\":\"Random Forest\",\"F1_Score_trainset\":[f1_train],\n",
    "                   \"F1_score_validationset\":[f1_val.mean()]})\n",
    "\n",
    "score"
   ]
  },
  {
   "cell_type": "markdown",
   "id": "9f88efa3",
   "metadata": {},
   "source": [
    "HYPER PARAMETER TUNING Gradient Boosting"
   ]
  },
  {
   "cell_type": "code",
   "execution_count": 99,
   "id": "f0af4dbc",
   "metadata": {},
   "outputs": [
    {
     "data": {
      "text/plain": [
       "GridSearchCV(cv=5, estimator=GradientBoostingClassifier(random_state=42),\n",
       "             param_grid=[{'max_depth': [1, 2, 3, 4],\n",
       "                          'max_features': [2, 4, 6, 8, 10],\n",
       "                          'n_estimators': [3, 10, 30, 50, 100],\n",
       "                          'subsample': [0.25, 0.5, 0.75]}],\n",
       "             return_train_score=True, scoring='f1')"
      ]
     },
     "execution_count": 99,
     "metadata": {},
     "output_type": "execute_result"
    }
   ],
   "source": [
    "param_grid = [\n",
    "    {'n_estimators':[3,10,30,50,100],\n",
    "    'max_features':[2,4,6,8,10],\n",
    "    'max_depth' : [1,2,3,4],\n",
    "    'subsample': [0.25,0.5,0.75]}\n",
    "]\n",
    "\n",
    "gdb_clf2 = GradientBoostingClassifier(random_state=42)\n",
    "grid_search2 = GridSearchCV(gdb_clf2, param_grid, cv=5,\n",
    "                           scoring='f1',\n",
    "                           return_train_score=True)\n",
    "grid_search2.fit(x_train, y_train)"
   ]
  },
  {
   "cell_type": "code",
   "execution_count": 100,
   "id": "98a8c29d",
   "metadata": {},
   "outputs": [
    {
     "data": {
      "text/plain": [
       "GradientBoostingClassifier(max_depth=1, max_features=6, n_estimators=50,\n",
       "                           random_state=42, subsample=0.25)"
      ]
     },
     "execution_count": 100,
     "metadata": {},
     "output_type": "execute_result"
    }
   ],
   "source": [
    "grid_search2.best_estimator_"
   ]
  },
  {
   "cell_type": "code",
   "execution_count": 101,
   "id": "48349a12",
   "metadata": {},
   "outputs": [
    {
     "data": {
      "text/html": [
       "<div>\n",
       "<style scoped>\n",
       "    .dataframe tbody tr th:only-of-type {\n",
       "        vertical-align: middle;\n",
       "    }\n",
       "\n",
       "    .dataframe tbody tr th {\n",
       "        vertical-align: top;\n",
       "    }\n",
       "\n",
       "    .dataframe thead th {\n",
       "        text-align: right;\n",
       "    }\n",
       "</style>\n",
       "<table border=\"1\" class=\"dataframe\">\n",
       "  <thead>\n",
       "    <tr style=\"text-align: right;\">\n",
       "      <th></th>\n",
       "      <th>name</th>\n",
       "      <th>F1_Score_trainset</th>\n",
       "      <th>F1_score_validationset</th>\n",
       "    </tr>\n",
       "  </thead>\n",
       "  <tbody>\n",
       "    <tr>\n",
       "      <th>0</th>\n",
       "      <td>Gradient Boosting</td>\n",
       "      <td>0.84788</td>\n",
       "      <td>0.84505</td>\n",
       "    </tr>\n",
       "  </tbody>\n",
       "</table>\n",
       "</div>"
      ],
      "text/plain": [
       "                name  F1_Score_trainset  F1_score_validationset\n",
       "0  Gradient Boosting            0.84788                 0.84505"
      ]
     },
     "execution_count": 101,
     "metadata": {},
     "output_type": "execute_result"
    }
   ],
   "source": [
    "grid_search2.best_estimator_.fit(x_train,y_train)\n",
    "y_pred=grid_search2.best_estimator_.predict(x_train)\n",
    "f1_train=f1_score(y_train,y_pred)\n",
    "\n",
    "# Cross validation\n",
    "f1_val=cross_val_score(grid_search2.best_estimator_,x_train,y_train,cv=10,scoring='f1')\n",
    "\n",
    "# Verifying the score\n",
    "score=pd.DataFrame({\"name\":\"Gradient Boosting\",\"F1_Score_trainset\":[f1_train],\n",
    "                   \"F1_score_validationset\":[f1_val.mean()]})\n",
    "\n",
    "score"
   ]
  },
  {
   "cell_type": "code",
   "execution_count": 102,
   "id": "e0264612",
   "metadata": {},
   "outputs": [
    {
     "data": {
      "text/html": [
       "<div>\n",
       "<style scoped>\n",
       "    .dataframe tbody tr th:only-of-type {\n",
       "        vertical-align: middle;\n",
       "    }\n",
       "\n",
       "    .dataframe tbody tr th {\n",
       "        vertical-align: top;\n",
       "    }\n",
       "\n",
       "    .dataframe thead th {\n",
       "        text-align: right;\n",
       "    }\n",
       "</style>\n",
       "<table border=\"1\" class=\"dataframe\">\n",
       "  <thead>\n",
       "    <tr style=\"text-align: right;\">\n",
       "      <th></th>\n",
       "      <th>Train_score</th>\n",
       "      <th>Val_score</th>\n",
       "    </tr>\n",
       "  </thead>\n",
       "  <tbody>\n",
       "    <tr>\n",
       "      <th>SVM</th>\n",
       "      <td>0.847222</td>\n",
       "      <td>0.836403</td>\n",
       "    </tr>\n",
       "    <tr>\n",
       "      <th>RandomForest</th>\n",
       "      <td>0.848586</td>\n",
       "      <td>0.845027</td>\n",
       "    </tr>\n",
       "    <tr>\n",
       "      <th>GDBoost</th>\n",
       "      <td>0.847880</td>\n",
       "      <td>0.847880</td>\n",
       "    </tr>\n",
       "    <tr>\n",
       "      <th>Decision Tree</th>\n",
       "      <td>0.835145</td>\n",
       "      <td>0.741846</td>\n",
       "    </tr>\n",
       "  </tbody>\n",
       "</table>\n",
       "</div>"
      ],
      "text/plain": [
       "               Train_score  Val_score\n",
       "SVM               0.847222   0.836403\n",
       "RandomForest      0.848586   0.845027\n",
       "GDBoost           0.847880   0.847880\n",
       "Decision Tree     0.835145   0.741846"
      ]
     },
     "execution_count": 102,
     "metadata": {},
     "output_type": "execute_result"
    }
   ],
   "source": [
    "scores = pd.DataFrame({'Train_score' : [0.847222,0.848586,0.84788,0.835145],'Val_score' : [0.836403,0.845027,0.84788,0.741846]} \n",
    "                        ,index=['SVM','RandomForest','GDBoost','Decision Tree'])\n",
    "scores"
   ]
  },
  {
   "cell_type": "markdown",
   "id": "776f636c",
   "metadata": {},
   "source": [
    "After parameter tuning best model comes out to Random Forest and GDboost"
   ]
  },
  {
   "cell_type": "markdown",
   "id": "90c40677",
   "metadata": {},
   "source": [
    "Verifying our model on test data."
   ]
  },
  {
   "cell_type": "code",
   "execution_count": 103,
   "id": "0efff3c1",
   "metadata": {},
   "outputs": [],
   "source": [
    "# Preprocessing for Test Data\n",
    "\n",
    "X_test = test_data.drop('treatment',axis=1)\n",
    "y_test = test_data['treatment'].copy()"
   ]
  },
  {
   "cell_type": "code",
   "execution_count": 104,
   "id": "cb7bf846",
   "metadata": {},
   "outputs": [],
   "source": [
    "X_test['self_employed'].fillna(se_mode,inplace=True)\n",
    "X_test['work_interfere'].fillna('Never',inplace = True)"
   ]
  },
  {
   "cell_type": "code",
   "execution_count": 105,
   "id": "4c88bd52",
   "metadata": {},
   "outputs": [],
   "source": [
    "from sklearn.preprocessing import OrdinalEncoder\n",
    "\n",
    "# We should only transform using the learned encoder from the training set\n",
    "\n",
    "X_test[features[1:]] = ord_encoder.transform(X_test.iloc[:,1:])"
   ]
  },
  {
   "cell_type": "code",
   "execution_count": 106,
   "id": "c167c9fe",
   "metadata": {},
   "outputs": [],
   "source": [
    "X_test[features] = std_scaler.transform(X_test)"
   ]
  },
  {
   "cell_type": "code",
   "execution_count": 107,
   "id": "62ed25a7",
   "metadata": {},
   "outputs": [],
   "source": [
    "# Encoding the target column\n",
    "\n",
    "y_test = lb_encoder.transform(y_test)\n"
   ]
  },
  {
   "cell_type": "code",
   "execution_count": 108,
   "id": "e93c3b9a",
   "metadata": {},
   "outputs": [
    {
     "name": "stdout",
     "output_type": "stream",
     "text": [
      "F1_score on Test Set : 0.8732394366197183\n"
     ]
    }
   ],
   "source": [
    "# Evaluating the model on test set with our finalized model\n",
    "\n",
    "# Gradient Boosting\n",
    "gd_bossting=grid_search2.best_estimator_\n",
    "\n",
    "y_test_pred = gd_bossting.predict(X_test)\n",
    "print(f'F1_score on Test Set : {f1_score(y_test,y_test_pred)}')"
   ]
  },
  {
   "cell_type": "code",
   "execution_count": 109,
   "id": "c643f3b7",
   "metadata": {},
   "outputs": [
    {
     "name": "stdout",
     "output_type": "stream",
     "text": [
      "F1_score on Test Set : 0.8679245283018867\n"
     ]
    }
   ],
   "source": [
    "# Evaluating the model on test set with our finalized model\n",
    "\n",
    "# Gradient Boosting\n",
    "Random_forest_model=grid_search3.best_estimator_\n",
    "\n",
    "y_test_pred = Random_forest_model.predict(X_test)\n",
    "print(f'F1_score on Test Set : {f1_score(y_test,y_test_pred)}')"
   ]
  },
  {
   "cell_type": "code",
   "execution_count": 110,
   "id": "72287a94",
   "metadata": {},
   "outputs": [],
   "source": [
    "# Our Final Model Is Gradient Bossting as it giving the best results."
   ]
  },
  {
   "cell_type": "markdown",
   "id": "8339180a",
   "metadata": {},
   "source": [
    "# Identifying the Key Features that lead to mental Health Problems in tech Industry"
   ]
  },
  {
   "cell_type": "code",
   "execution_count": 111,
   "id": "aa3db49f",
   "metadata": {},
   "outputs": [],
   "source": [
    "data = {'feature_names':features,'feature_importance': gd_bossting.feature_importances_}\n",
    "featureimp_df = pd.DataFrame(data)\n",
    "featureimp_df.sort_values(by=['feature_importance'], ascending=False,inplace=True)"
   ]
  },
  {
   "cell_type": "code",
   "execution_count": 112,
   "id": "4c5cd187",
   "metadata": {},
   "outputs": [
    {
     "data": {
      "text/plain": [
       "Text(0.5, 1.0, 'Key Features')"
      ]
     },
     "execution_count": 112,
     "metadata": {},
     "output_type": "execute_result"
    },
    {
     "data": {
      "image/png": "[encoded data removed]",
      "text/plain": [
       "<Figure size 864x864 with 1 Axes>"
      ]
     },
     "metadata": {
      "needs_background": "light"
     },
     "output_type": "display_data"
    }
   ],
   "source": [
    "plt.figure(figsize=(12,12))\n",
    "sns.barplot(data = featureimp_df, x = 'feature_importance' , y = 'feature_names')\n",
    "plt.title(\"Key Features\", fontsize=16)"
   ]
  },
  {
   "cell_type": "markdown",
   "id": "11078f4f",
   "metadata": {},
   "source": [
    "Work interference has the largest contribution. Whether the employee's mental health issues interfering with the work is the thing that the company should ask for its employees.\n",
    "Family history and care options(programs and benfits) provided by company is also influential in employees who want to get treatment.\n",
    "For all the remaining features,there has been a little contribution.\n",
    "noticing/knowing some of these features beforehand can even help support an individual who may be experiencing a mental health issues and and connect them with the appropriate employee resources."
   ]
  },
  {
   "cell_type": "code",
   "execution_count": null,
   "id": "9b913397",
   "metadata": {},
   "outputs": [],
   "source": []
  }
 ],
 "metadata": {
  "kernelspec": {
   "display_name": "Python 3 (ipykernel)",
   "language": "python",
   "name": "python3"
  },
  "language_info": {
   "codemirror_mode": {
    "name": "ipython",
    "version": 3
   },
   "file_extension": ".py",
   "mimetype": "text/x-python",
   "name": "python",
   "nbconvert_exporter": "python",
   "pygments_lexer": "ipython3",
   "version": "3.9.12"
  }
 },
 "nbformat": 4,
 "nbformat_minor": 5
}
